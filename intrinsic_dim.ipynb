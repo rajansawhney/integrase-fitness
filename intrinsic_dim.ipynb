{
 "cells": [
  {
   "cell_type": "markdown",
   "metadata": {},
   "source": [
    "# Intrinsic dimension"
   ]
  },
  {
   "cell_type": "markdown",
   "metadata": {},
   "source": [
    "https://huggingface.co/blog/AmelieSchreiber/intrinsic-dimension-of-proteins\n",
    "\n",
    "Use token-wise representations\n",
    "\n",
    " If regularization is needed due to overfitting, choosing a rank for the LoRA that is lower than the intrinsic dimension for that layer is likely helpful."
   ]
  },
  {
   "cell_type": "code",
   "execution_count": 9,
   "metadata": {},
   "outputs": [],
   "source": [
    "import numpy as np\n",
    "from sklearn.linear_model import LinearRegression\n",
    "from scipy.spatial import distance_matrix\n",
    "from scipy.sparse.csgraph import minimum_spanning_tree\n",
    "from transformers import AutoTokenizer, AutoModel\n",
    "import torch"
   ]
  },
  {
   "cell_type": "code",
   "execution_count": 10,
   "metadata": {},
   "outputs": [],
   "source": [
    "data_dir = \"/data/rajan/integrase\"\n",
    "emb_dir = f\"{data_dir}/emb\"\n",
    "esm2_3B_emb_dir = f\"{emb_dir}/esm2_3B\"\n",
    "ORF_emb_dir = f\"{esm2_3B_emb_dir}/ORF\"\n",
    "attB_emb_dir = f\"{esm2_3B_emb_dir}/attB\"\n",
    "attP_emb_dir = f\"{esm2_3B_emb_dir}/attP\"\n",
    "fasta_dir = f\"{data_dir}/fasta\""
   ]
  },
  {
   "cell_type": "markdown",
   "metadata": {},
   "source": []
  },
  {
   "cell_type": "code",
   "execution_count": 18,
   "metadata": {},
   "outputs": [],
   "source": [
    "def get_embeddings(int_name, emb_dir):\n",
    "    return torch.load(f\"{emb_dir}/{int_name.strip()}.pt\")[\"representations\"][36]"
   ]
  },
  {
   "cell_type": "code",
   "execution_count": 12,
   "metadata": {},
   "outputs": [],
   "source": [
    "def compute_persistent_score(embeddings):\n",
    "    \"\"\"\n",
    "    Compute the persistent score for a subset of embeddings using the sum of edge weights in the MST.\n",
    "    \n",
    "    Parameters:\n",
    "    - embeddings (numpy.ndarray): A matrix where each row is an embedding.\n",
    "    \n",
    "    Returns:\n",
    "    - float: The persistent score for the embeddings.\n",
    "    \"\"\"\n",
    "    dist_matrix = distance_matrix(embeddings, embeddings)\n",
    "    mst = minimum_spanning_tree(dist_matrix)\n",
    "    return mst.sum()"
   ]
  },
  {
   "cell_type": "code",
   "execution_count": 13,
   "metadata": {},
   "outputs": [],
   "source": [
    "def sample_and_score(embeddings, n, k=8, hat_n=40, J=7):\n",
    "    \"\"\"\n",
    "    For various sample sizes, compute the median persistent score across J samples.\n",
    "    \n",
    "    Parameters:\n",
    "    - embeddings (numpy.ndarray): A matrix where each row is an embedding.\n",
    "    - n (int): Total number of embeddings.\n",
    "    - k (int): Number of different sample sizes.\n",
    "    - hat_n (int): A parameter for determining sample sizes.\n",
    "    - J (int): Number of samples for each sample size.\n",
    "    \n",
    "    Returns:\n",
    "    - list: List of sample sizes.\n",
    "    - list: List of corresponding median persistent scores.\n",
    "    \"\"\"\n",
    "    scores = []\n",
    "    sizes = [(i - 1) * (n - hat_n) // k + hat_n for i in range(1, k + 1)]\n",
    "    \n",
    "    for size in sizes:\n",
    "        subset_scores = [compute_persistent_score(embeddings[np.random.choice(n, size, replace=False)])\n",
    "                         for _ in range(J)]\n",
    "        scores.append(np.median(subset_scores))\n",
    "    \n",
    "    return sizes, scores"
   ]
  },
  {
   "cell_type": "code",
   "execution_count": 14,
   "metadata": {},
   "outputs": [],
   "source": [
    "def estimate_dimension(sizes, scores):\n",
    "    \"\"\"\n",
    "    Estimate the intrinsic dimension of the data using linear regression on log-transformed sizes and scores.\n",
    "    \n",
    "    Parameters:\n",
    "    - sizes (list): List of sample sizes.\n",
    "    - scores (list): List of corresponding median persistent scores.\n",
    "    \n",
    "    Returns:\n",
    "    - float: Estimated dimension of the data.\n",
    "    \"\"\"\n",
    "    log_sizes = np.log(sizes).reshape(-1, 1)\n",
    "    log_scores = np.log(scores)\n",
    "\n",
    "    reg = LinearRegression().fit(log_sizes, log_scores)\n",
    "    slope = reg.coef_[0]\n",
    "    \n",
    "    return 1 / (1 - slope)"
   ]
  },
  {
   "cell_type": "code",
   "execution_count": 27,
   "metadata": {},
   "outputs": [],
   "source": [
    "def estimate_sequence_dimension(int_name, emb_dir, runs=5):\n",
    "    \"\"\"\n",
    "    Estimate the intrinsic dimension of the text by repeatedly sampling subsets of its tokens, \n",
    "    computing their persistent scores, and then using linear regression on the log-transformed values.\n",
    "    \n",
    "    Parameters:\n",
    "    - text (str): The input text for which the dimension needs to be estimated.\n",
    "    - runs (int): Number of runs with different random seeds.\n",
    "    \n",
    "    Returns:\n",
    "    - float: Estimated dimension of the text.\n",
    "    \"\"\"\n",
    "    embeddings = get_embeddings(int_name, emb_dir)\n",
    "    n = embeddings.shape[0]\n",
    "    print(n)\n",
    "    \n",
    "    slopes = []\n",
    "    for _ in range(runs):\n",
    "        sizes, scores = sample_and_score(embeddings, n)\n",
    "        log_sizes = np.log(sizes).reshape(-1, 1)\n",
    "        log_scores = np.log(scores)\n",
    "        \n",
    "        reg = LinearRegression().fit(log_sizes, log_scores)\n",
    "        slopes.append(reg.coef_[0])\n",
    "    \n",
    "    kappa_F = np.mean(slopes)\n",
    "    return 1 / (1 - kappa_F)"
   ]
  },
  {
   "cell_type": "code",
   "execution_count": 30,
   "metadata": {},
   "outputs": [
    {
     "name": "stdout",
     "output_type": "stream",
     "text": [
      "1022\n",
      "Estimated dimension of the protein sequence: 13.27396244023865\n"
     ]
    }
   ],
   "source": [
    "int_name = 'LPINT 124'\n",
    "dim = estimate_sequence_dimension(int_name, ORF_emb_dir, runs=2)\n",
    "print(f\"Estimated dimension of the protein sequence: {dim}\")"
   ]
  },
  {
   "cell_type": "code",
   "execution_count": 32,
   "metadata": {},
   "outputs": [
    {
     "name": "stdout",
     "output_type": "stream",
     "text": [
      "114\n",
      "Estimated dimension of the attB sequence for LPINT 124: 9.798257989968421\n"
     ]
    }
   ],
   "source": [
    "int_name = 'LPINT 124' # best eff of 74.55\n",
    "dim = estimate_sequence_dimension(int_name, attB_emb_dir, runs=2)\n",
    "print(f\"Estimated dimension of the attB sequence for {int_name}: {dim}\")"
   ]
  },
  {
   "cell_type": "code",
   "execution_count": 33,
   "metadata": {},
   "outputs": [
    {
     "name": "stdout",
     "output_type": "stream",
     "text": [
      "114\n",
      "Estimated dimension of the attP sequence for LPINT 124: 10.168652909579016\n"
     ]
    }
   ],
   "source": [
    "int_name = 'LPINT 124'\n",
    "dim = estimate_sequence_dimension(int_name, attP_emb_dir, runs=2)\n",
    "print(f\"Estimated dimension of the attP sequence for {int_name}: {dim}\")"
   ]
  },
  {
   "cell_type": "markdown",
   "metadata": {},
   "source": []
  },
  {
   "cell_type": "code",
   "execution_count": 31,
   "metadata": {},
   "outputs": [
    {
     "name": "stdout",
     "output_type": "stream",
     "text": [
      "1022\n",
      "Estimated dimension of the protein sequence: 12.741481189204736\n"
     ]
    }
   ],
   "source": [
    "int_name = 'Int4' # mid eff 31.5\n",
    "dim = estimate_sequence_dimension(int_name, ORF_emb_dir, runs=2)\n",
    "print(f\"Estimated dimension of the protein sequence: {dim}\")"
   ]
  },
  {
   "cell_type": "code",
   "execution_count": 34,
   "metadata": {},
   "outputs": [
    {
     "name": "stdout",
     "output_type": "stream",
     "text": [
      "66\n",
      "Estimated dimension of the attB sequence for Int4: 9.643788494354599\n"
     ]
    }
   ],
   "source": [
    "int_name = 'Int4' # mid eff 31.5\n",
    "dim = estimate_sequence_dimension(int_name, attB_emb_dir, runs=2)\n",
    "print(f\"Estimated dimension of the attB sequence for {int_name}: {dim}\")"
   ]
  },
  {
   "cell_type": "code",
   "execution_count": 35,
   "metadata": {},
   "outputs": [
    {
     "name": "stdout",
     "output_type": "stream",
     "text": [
      "63\n",
      "Estimated dimension of the attP sequence for Int4: 11.217583969202364\n"
     ]
    }
   ],
   "source": [
    "int_name = 'Int4' # mid eff 31.5\n",
    "dim = estimate_sequence_dimension(int_name, attP_emb_dir, runs=2)\n",
    "print(f\"Estimated dimension of the attP sequence for {int_name}: {dim}\")"
   ]
  },
  {
   "cell_type": "markdown",
   "metadata": {},
   "source": []
  }
 ],
 "metadata": {
  "kernelspec": {
   "display_name": "proteins",
   "language": "python",
   "name": "python3"
  },
  "language_info": {
   "codemirror_mode": {
    "name": "ipython",
    "version": 3
   },
   "file_extension": ".py",
   "mimetype": "text/x-python",
   "name": "python",
   "nbconvert_exporter": "python",
   "pygments_lexer": "ipython3",
   "version": "3.8.18"
  }
 },
 "nbformat": 4,
 "nbformat_minor": 2
}
