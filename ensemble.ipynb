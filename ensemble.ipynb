{
 "cells": [
  {
   "cell_type": "code",
   "execution_count": 2,
   "metadata": {},
   "outputs": [],
   "source": [
    "import numpy as np\n",
    "import pandas as pd\n",
    "import torch\n",
    "\n",
    "from Bio.Seq import Seq\n",
    "\n",
    "from scipy import stats\n",
    "from sklearn.ensemble import AdaBoostRegressor, RandomForestRegressor, GradientBoostingRegressor\n",
    "from sklearn.model_selection import cross_val_score, train_test_split, GridSearchCV\n",
    "from sklearn.preprocessing import PowerTransformer\n",
    "import xgboost as xgb\n",
    "\n",
    "# from sklearn.metrics import mean_squared_error, mean_absolute_error, r2_score\n",
    "from sklearn import metrics\n",
    "import matplotlib.pyplot as plt\n",
    "\n",
    "import pickle"
   ]
  },
  {
   "cell_type": "code",
   "execution_count": 3,
   "metadata": {},
   "outputs": [],
   "source": [
    "data_dir = \"/data/rajan/integrase\"\n",
    "emb_dir = f\"{data_dir}/emb\"\n",
    "esm2_3B_emb_dir = f\"{emb_dir}/esm2_3B\"\n",
    "ORF_emb_dir = f\"{esm2_3B_emb_dir}/ORF\"\n",
    "seq_emb_dir = f\"{esm2_3B_emb_dir}/seqs\"\n",
    "attB_emb_dir = f\"{esm2_3B_emb_dir}/attB\"\n",
    "attP_emb_dir = f\"{esm2_3B_emb_dir}/attP\"\n",
    "fasta_dir = f\"{data_dir}/fasta\""
   ]
  },
  {
   "cell_type": "markdown",
   "metadata": {},
   "source": []
  },
  {
   "cell_type": "code",
   "execution_count": 4,
   "metadata": {},
   "outputs": [
    {
     "data": {
      "text/html": [
       "<div>\n",
       "<style scoped>\n",
       "    .dataframe tbody tr th:only-of-type {\n",
       "        vertical-align: middle;\n",
       "    }\n",
       "\n",
       "    .dataframe tbody tr th {\n",
       "        vertical-align: top;\n",
       "    }\n",
       "\n",
       "    .dataframe thead th {\n",
       "        text-align: right;\n",
       "    }\n",
       "</style>\n",
       "<table border=\"1\" class=\"dataframe\">\n",
       "  <thead>\n",
       "    <tr style=\"text-align: right;\">\n",
       "      <th></th>\n",
       "      <th>#</th>\n",
       "      <th>Int Name</th>\n",
       "      <th>Efficiency</th>\n",
       "      <th>ATTB</th>\n",
       "      <th>ATTP</th>\n",
       "      <th>ORF</th>\n",
       "      <th>seq</th>\n",
       "      <th>seq_mean_emb</th>\n",
       "      <th>sqrt_eff</th>\n",
       "      <th>yj_eff</th>\n",
       "      <th>bcx_eff</th>\n",
       "    </tr>\n",
       "  </thead>\n",
       "  <tbody>\n",
       "    <tr>\n",
       "      <th>0</th>\n",
       "      <td>1</td>\n",
       "      <td>Int1</td>\n",
       "      <td>8.454545</td>\n",
       "      <td>ggaactccgccgggcccatctggtcgaagaagatgaaggggcccac...</td>\n",
       "      <td>atggggtcacaataccaatcatgttcaagaatgtgaagggtatttt...</td>\n",
       "      <td>ATGACCAACCCCGCCTCCAGACCTAAGGCCTACAGCTACATCAGAA...</td>\n",
       "      <td>MTNPASRPKAYSYIRMSSAIQIKGDSFRRQAEASAKYAAEHDLDLI...</td>\n",
       "      <td>[-0.012143803, -0.0052933423, -0.0072857062, 0...</td>\n",
       "      <td>2.907670</td>\n",
       "      <td>2.748843</td>\n",
       "      <td>3.072296</td>\n",
       "    </tr>\n",
       "    <tr>\n",
       "      <th>1</th>\n",
       "      <td>2</td>\n",
       "      <td>Int2</td>\n",
       "      <td>29.568182</td>\n",
       "      <td>ggacggcgcagaaggggagtagctcttcgccggaccgtcgacatac...</td>\n",
       "      <td>gctcatgtatgtgtctacgcgagattctcgcccgagaacttctgca...</td>\n",
       "      <td>ATGCCTATCGCCCCTGAGTTCCTGTCTCTGGCTTATCCTGGACAGG...</td>\n",
       "      <td>MPIAPEFLSLAYPGQEFPAYLYGRASRDPKRKGRSVQSQLDEGRAT...</td>\n",
       "      <td>[0.018540306, -0.026513908, -0.039321538, 0.02...</td>\n",
       "      <td>5.437663</td>\n",
       "      <td>4.673390</td>\n",
       "      <td>6.144307</td>\n",
       "    </tr>\n",
       "    <tr>\n",
       "      <th>2</th>\n",
       "      <td>3</td>\n",
       "      <td>Int3</td>\n",
       "      <td>14.636364</td>\n",
       "      <td>gtttgtaaaggagactgataatggcatgtacaactatactcgtcgg...</td>\n",
       "      <td>atggataaaaaaatacagcgtttttcatgtacaactatactagttg...</td>\n",
       "      <td>ATGCGGAAGGTGGCCATCTATAGCCGGGTGTCTACAATTAACCAAG...</td>\n",
       "      <td>MRKVAIYSRVSTINQAEEGYSIQGQIEALTKYCEAMEWKIYKNYSD...</td>\n",
       "      <td>[-0.018123832, -0.008340224, -0.046946924, 0.0...</td>\n",
       "      <td>3.825750</td>\n",
       "      <td>3.526112</td>\n",
       "      <td>4.267895</td>\n",
       "    </tr>\n",
       "    <tr>\n",
       "      <th>3</th>\n",
       "      <td>4</td>\n",
       "      <td>Int4</td>\n",
       "      <td>31.500000</td>\n",
       "      <td>ttccaaagagcgcccaacgcgacctgaaatttgaataagactgctg...</td>\n",
       "      <td>caaaaattacaaagttttcaacccttgatttgaattagcggtcaaa...</td>\n",
       "      <td>ATGATCACAACCAGGAAGGTGGCCATCTACGTGCGGGTGTCCACCA...</td>\n",
       "      <td>MITTRKVAIYVRVSTTNQAEEGYSIQGQIDSLIKYCEAMGWIIYEE...</td>\n",
       "      <td>[-0.0050011743, -0.0090518985, -0.056376845, 0...</td>\n",
       "      <td>5.612486</td>\n",
       "      <td>4.785097</td>\n",
       "      <td>6.335013</td>\n",
       "    </tr>\n",
       "    <tr>\n",
       "      <th>4</th>\n",
       "      <td>5</td>\n",
       "      <td>Int5</td>\n",
       "      <td>14.568182</td>\n",
       "      <td>gagcgccggatcagggagtggacggcctgggagcgctacacgctgt...</td>\n",
       "      <td>ccctaatacgcaagtcgataactctcctgggagcgttgacaacttg...</td>\n",
       "      <td>ATGCCAGGGATGACCACAGAAACCGGACCTGACCCAGCCGGACTTA...</td>\n",
       "      <td>MPGMTTETGPDPAGLIDLFCRKSKAVKSRANGAGQRRKQEISIAAQ...</td>\n",
       "      <td>[0.02901023, -0.012837757, -0.04548945, 0.0252...</td>\n",
       "      <td>3.816829</td>\n",
       "      <td>3.519063</td>\n",
       "      <td>4.256804</td>\n",
       "    </tr>\n",
       "  </tbody>\n",
       "</table>\n",
       "</div>"
      ],
      "text/plain": [
       "   # Int Name  Efficiency                                               ATTB  \\\n",
       "0  1     Int1    8.454545  ggaactccgccgggcccatctggtcgaagaagatgaaggggcccac...   \n",
       "1  2     Int2   29.568182  ggacggcgcagaaggggagtagctcttcgccggaccgtcgacatac...   \n",
       "2  3     Int3   14.636364  gtttgtaaaggagactgataatggcatgtacaactatactcgtcgg...   \n",
       "3  4     Int4   31.500000  ttccaaagagcgcccaacgcgacctgaaatttgaataagactgctg...   \n",
       "4  5     Int5   14.568182  gagcgccggatcagggagtggacggcctgggagcgctacacgctgt...   \n",
       "\n",
       "                                                ATTP  \\\n",
       "0  atggggtcacaataccaatcatgttcaagaatgtgaagggtatttt...   \n",
       "1  gctcatgtatgtgtctacgcgagattctcgcccgagaacttctgca...   \n",
       "2  atggataaaaaaatacagcgtttttcatgtacaactatactagttg...   \n",
       "3  caaaaattacaaagttttcaacccttgatttgaattagcggtcaaa...   \n",
       "4  ccctaatacgcaagtcgataactctcctgggagcgttgacaacttg...   \n",
       "\n",
       "                                                 ORF  \\\n",
       "0  ATGACCAACCCCGCCTCCAGACCTAAGGCCTACAGCTACATCAGAA...   \n",
       "1  ATGCCTATCGCCCCTGAGTTCCTGTCTCTGGCTTATCCTGGACAGG...   \n",
       "2  ATGCGGAAGGTGGCCATCTATAGCCGGGTGTCTACAATTAACCAAG...   \n",
       "3  ATGATCACAACCAGGAAGGTGGCCATCTACGTGCGGGTGTCCACCA...   \n",
       "4  ATGCCAGGGATGACCACAGAAACCGGACCTGACCCAGCCGGACTTA...   \n",
       "\n",
       "                                                 seq  \\\n",
       "0  MTNPASRPKAYSYIRMSSAIQIKGDSFRRQAEASAKYAAEHDLDLI...   \n",
       "1  MPIAPEFLSLAYPGQEFPAYLYGRASRDPKRKGRSVQSQLDEGRAT...   \n",
       "2  MRKVAIYSRVSTINQAEEGYSIQGQIEALTKYCEAMEWKIYKNYSD...   \n",
       "3  MITTRKVAIYVRVSTTNQAEEGYSIQGQIDSLIKYCEAMGWIIYEE...   \n",
       "4  MPGMTTETGPDPAGLIDLFCRKSKAVKSRANGAGQRRKQEISIAAQ...   \n",
       "\n",
       "                                        seq_mean_emb  sqrt_eff    yj_eff  \\\n",
       "0  [-0.012143803, -0.0052933423, -0.0072857062, 0...  2.907670  2.748843   \n",
       "1  [0.018540306, -0.026513908, -0.039321538, 0.02...  5.437663  4.673390   \n",
       "2  [-0.018123832, -0.008340224, -0.046946924, 0.0...  3.825750  3.526112   \n",
       "3  [-0.0050011743, -0.0090518985, -0.056376845, 0...  5.612486  4.785097   \n",
       "4  [0.02901023, -0.012837757, -0.04548945, 0.0252...  3.816829  3.519063   \n",
       "\n",
       "    bcx_eff  \n",
       "0  3.072296  \n",
       "1  6.144307  \n",
       "2  4.267895  \n",
       "3  6.335013  \n",
       "4  4.256804  "
      ]
     },
     "execution_count": 4,
     "metadata": {},
     "output_type": "execute_result"
    }
   ],
   "source": [
    "data = pickle.load(open('/home/rajan/integrase/data.pkl', 'rb'))\n",
    "data.head()"
   ]
  },
  {
   "cell_type": "code",
   "execution_count": 5,
   "metadata": {},
   "outputs": [
    {
     "name": "stdout",
     "output_type": "stream",
     "text": [
      "[0.17400427]\n",
      "[0.00253371] [6.45023616]\n"
     ]
    }
   ],
   "source": [
    "pt_yj_wo_std = PowerTransformer(method='yeo-johnson', standardize=False)\n",
    "pt_yj_wo_std.fit(data.Efficiency.values.reshape(-1, 1))\n",
    "print(pt_yj_wo_std.lambdas_)\n",
    "\n",
    "yj_wo_std_eff = pt_yj_wo_std.transform(data.Efficiency.values.reshape(-1, 1))\n",
    "data[\"yj_eff\"] = yj_wo_std_eff\n",
    "\n",
    "print(min(yj_wo_std_eff), max(yj_wo_std_eff))\n",
    "\n",
    "inv_yj_wo_std_eff = pt_yj_wo_std.inverse_transform(yj_wo_std_eff)"
   ]
  },
  {
   "cell_type": "code",
   "execution_count": 36,
   "metadata": {},
   "outputs": [],
   "source": [
    "def plot_true_v_pred(true, pred, title):\n",
    "    plt.figure(figsize=(10,10))\n",
    "    plt.scatter(true, pred, c='crimson')\n",
    "    p1 = max(max(pred), max(true))\n",
    "    p2 = min(min(pred), min(true))\n",
    "    plt.plot([p1, p2], [p1, p2], 'b-')\n",
    "    plt.xlabel('True efficiency', fontsize=15)\n",
    "    plt.ylabel('Predicted efficiency', fontsize=15)\n",
    "    plt.axis('equal')\n",
    "    plt.title(title, fontsize=15)\n",
    "    plt.show()"
   ]
  },
  {
   "cell_type": "markdown",
   "metadata": {},
   "source": [
    "### Train-test split"
   ]
  },
  {
   "cell_type": "code",
   "execution_count": 7,
   "metadata": {},
   "outputs": [],
   "source": [
    "X = data[[\"seq_mean_emb\"]]\n",
    "y = data.yj_eff"
   ]
  },
  {
   "cell_type": "code",
   "execution_count": 8,
   "metadata": {},
   "outputs": [],
   "source": [
    "X_train, X_test, y_train, y_test = train_test_split(X, y, test_size=0.25, random_state=42)"
   ]
  },
  {
   "cell_type": "code",
   "execution_count": 9,
   "metadata": {},
   "outputs": [],
   "source": [
    "X_train_vals = np.vstack(X_train['seq_mean_emb'])\n",
    "y_train_vals = y_train.to_numpy()\n",
    "\n",
    "X_test_vals = np.vstack(X_test['seq_mean_emb'])\n",
    "y_test_vals = y_test.to_numpy()"
   ]
  },
  {
   "cell_type": "markdown",
   "metadata": {},
   "source": [
    "### Random Forest Regressor"
   ]
  },
  {
   "cell_type": "code",
   "execution_count": 10,
   "metadata": {},
   "outputs": [],
   "source": [
    "rf_mod = RandomForestRegressor(random_state=8)"
   ]
  },
  {
   "cell_type": "code",
   "execution_count": 11,
   "metadata": {},
   "outputs": [
    {
     "data": {
      "text/html": [
       "<style>#sk-container-id-1 {color: black;}#sk-container-id-1 pre{padding: 0;}#sk-container-id-1 div.sk-toggleable {background-color: white;}#sk-container-id-1 label.sk-toggleable__label {cursor: pointer;display: block;width: 100%;margin-bottom: 0;padding: 0.3em;box-sizing: border-box;text-align: center;}#sk-container-id-1 label.sk-toggleable__label-arrow:before {content: \"▸\";float: left;margin-right: 0.25em;color: #696969;}#sk-container-id-1 label.sk-toggleable__label-arrow:hover:before {color: black;}#sk-container-id-1 div.sk-estimator:hover label.sk-toggleable__label-arrow:before {color: black;}#sk-container-id-1 div.sk-toggleable__content {max-height: 0;max-width: 0;overflow: hidden;text-align: left;background-color: #f0f8ff;}#sk-container-id-1 div.sk-toggleable__content pre {margin: 0.2em;color: black;border-radius: 0.25em;background-color: #f0f8ff;}#sk-container-id-1 input.sk-toggleable__control:checked~div.sk-toggleable__content {max-height: 200px;max-width: 100%;overflow: auto;}#sk-container-id-1 input.sk-toggleable__control:checked~label.sk-toggleable__label-arrow:before {content: \"▾\";}#sk-container-id-1 div.sk-estimator input.sk-toggleable__control:checked~label.sk-toggleable__label {background-color: #d4ebff;}#sk-container-id-1 div.sk-label input.sk-toggleable__control:checked~label.sk-toggleable__label {background-color: #d4ebff;}#sk-container-id-1 input.sk-hidden--visually {border: 0;clip: rect(1px 1px 1px 1px);clip: rect(1px, 1px, 1px, 1px);height: 1px;margin: -1px;overflow: hidden;padding: 0;position: absolute;width: 1px;}#sk-container-id-1 div.sk-estimator {font-family: monospace;background-color: #f0f8ff;border: 1px dotted black;border-radius: 0.25em;box-sizing: border-box;margin-bottom: 0.5em;}#sk-container-id-1 div.sk-estimator:hover {background-color: #d4ebff;}#sk-container-id-1 div.sk-parallel-item::after {content: \"\";width: 100%;border-bottom: 1px solid gray;flex-grow: 1;}#sk-container-id-1 div.sk-label:hover label.sk-toggleable__label {background-color: #d4ebff;}#sk-container-id-1 div.sk-serial::before {content: \"\";position: absolute;border-left: 1px solid gray;box-sizing: border-box;top: 0;bottom: 0;left: 50%;z-index: 0;}#sk-container-id-1 div.sk-serial {display: flex;flex-direction: column;align-items: center;background-color: white;padding-right: 0.2em;padding-left: 0.2em;position: relative;}#sk-container-id-1 div.sk-item {position: relative;z-index: 1;}#sk-container-id-1 div.sk-parallel {display: flex;align-items: stretch;justify-content: center;background-color: white;position: relative;}#sk-container-id-1 div.sk-item::before, #sk-container-id-1 div.sk-parallel-item::before {content: \"\";position: absolute;border-left: 1px solid gray;box-sizing: border-box;top: 0;bottom: 0;left: 50%;z-index: -1;}#sk-container-id-1 div.sk-parallel-item {display: flex;flex-direction: column;z-index: 1;position: relative;background-color: white;}#sk-container-id-1 div.sk-parallel-item:first-child::after {align-self: flex-end;width: 50%;}#sk-container-id-1 div.sk-parallel-item:last-child::after {align-self: flex-start;width: 50%;}#sk-container-id-1 div.sk-parallel-item:only-child::after {width: 0;}#sk-container-id-1 div.sk-dashed-wrapped {border: 1px dashed gray;margin: 0 0.4em 0.5em 0.4em;box-sizing: border-box;padding-bottom: 0.4em;background-color: white;}#sk-container-id-1 div.sk-label label {font-family: monospace;font-weight: bold;display: inline-block;line-height: 1.2em;}#sk-container-id-1 div.sk-label-container {text-align: center;}#sk-container-id-1 div.sk-container {/* jupyter's `normalize.less` sets `[hidden] { display: none; }` but bootstrap.min.css set `[hidden] { display: none !important; }` so we also need the `!important` here to be able to override the default hidden behavior on the sphinx rendered scikit-learn.org. See: https://github.com/scikit-learn/scikit-learn/issues/21755 */display: inline-block !important;position: relative;}#sk-container-id-1 div.sk-text-repr-fallback {display: none;}</style><div id=\"sk-container-id-1\" class=\"sk-top-container\"><div class=\"sk-text-repr-fallback\"><pre>RandomForestRegressor(random_state=8)</pre><b>In a Jupyter environment, please rerun this cell to show the HTML representation or trust the notebook. <br />On GitHub, the HTML representation is unable to render, please try loading this page with nbviewer.org.</b></div><div class=\"sk-container\" hidden><div class=\"sk-item\"><div class=\"sk-estimator sk-toggleable\"><input class=\"sk-toggleable__control sk-hidden--visually\" id=\"sk-estimator-id-1\" type=\"checkbox\" checked><label for=\"sk-estimator-id-1\" class=\"sk-toggleable__label sk-toggleable__label-arrow\">RandomForestRegressor</label><div class=\"sk-toggleable__content\"><pre>RandomForestRegressor(random_state=8)</pre></div></div></div></div></div>"
      ],
      "text/plain": [
       "RandomForestRegressor(random_state=8)"
      ]
     },
     "execution_count": 11,
     "metadata": {},
     "output_type": "execute_result"
    }
   ],
   "source": [
    "rf_mod.fit(X_train_vals, y_train_vals)"
   ]
  },
  {
   "cell_type": "code",
   "execution_count": 12,
   "metadata": {},
   "outputs": [
    {
     "data": {
      "text/plain": [
       "{'bootstrap': True,\n",
       " 'ccp_alpha': 0.0,\n",
       " 'criterion': 'squared_error',\n",
       " 'max_depth': None,\n",
       " 'max_features': 1.0,\n",
       " 'max_leaf_nodes': None,\n",
       " 'max_samples': None,\n",
       " 'min_impurity_decrease': 0.0,\n",
       " 'min_samples_leaf': 1,\n",
       " 'min_samples_split': 2,\n",
       " 'min_weight_fraction_leaf': 0.0,\n",
       " 'n_estimators': 100,\n",
       " 'n_jobs': None,\n",
       " 'oob_score': False,\n",
       " 'random_state': 8,\n",
       " 'verbose': 0,\n",
       " 'warm_start': False}"
      ]
     },
     "execution_count": 12,
     "metadata": {},
     "output_type": "execute_result"
    }
   ],
   "source": [
    "rf_mod.get_params(deep=True)"
   ]
  },
  {
   "cell_type": "markdown",
   "metadata": {},
   "source": [
    "##### Random Hyperparameter Grid"
   ]
  },
  {
   "cell_type": "code",
   "execution_count": 13,
   "metadata": {},
   "outputs": [
    {
     "name": "stdout",
     "output_type": "stream",
     "text": [
      "{'n_estimators': [100, 200, 300, 400, 500, 600, 700, 800, 900, 1000], 'max_features': ['log2', 'sqrt', None], 'max_depth': [10, 20, 30, 40, 50, 60, 70, 80, 90, 100, 110, None], 'min_samples_split': [2, 5, 10], 'min_samples_leaf': [1, 2, 4], 'bootstrap': [True, False]}\n"
     ]
    }
   ],
   "source": [
    "from sklearn.model_selection import RandomizedSearchCV\n",
    "# Number of trees in random forest\n",
    "n_estimators = [int(x) for x in np.linspace(start = 100, stop = 1000, num = 10)]\n",
    "# Number of features to consider at every split\n",
    "max_features = ['log2', 'sqrt', None]\n",
    "# Maximum number of levels in tree\n",
    "max_depth = [int(x) for x in np.linspace(10, 110, num = 11)]\n",
    "max_depth.append(None)\n",
    "# Minimum number of samples required to split a node\n",
    "min_samples_split = [2, 5, 10]\n",
    "# Minimum number of samples required at each leaf node\n",
    "min_samples_leaf = [1, 2, 4]\n",
    "# Method of selecting samples for training each tree\n",
    "bootstrap = [True, False]\n",
    "# Create the random grid\n",
    "random_grid = {'n_estimators': n_estimators,\n",
    "               'max_features': max_features,\n",
    "               'max_depth': max_depth,\n",
    "               'min_samples_split': min_samples_split,\n",
    "               'min_samples_leaf': min_samples_leaf,\n",
    "               'bootstrap': bootstrap}\n",
    "print(random_grid)"
   ]
  },
  {
   "cell_type": "markdown",
   "metadata": {},
   "source": [
    "##### Random Search Training"
   ]
  },
  {
   "cell_type": "code",
   "execution_count": 14,
   "metadata": {},
   "outputs": [
    {
     "name": "stdout",
     "output_type": "stream",
     "text": [
      "Fitting 3 folds for each of 100 candidates, totalling 300 fits\n"
     ]
    },
    {
     "data": {
      "text/html": [
       "<style>#sk-container-id-2 {color: black;}#sk-container-id-2 pre{padding: 0;}#sk-container-id-2 div.sk-toggleable {background-color: white;}#sk-container-id-2 label.sk-toggleable__label {cursor: pointer;display: block;width: 100%;margin-bottom: 0;padding: 0.3em;box-sizing: border-box;text-align: center;}#sk-container-id-2 label.sk-toggleable__label-arrow:before {content: \"▸\";float: left;margin-right: 0.25em;color: #696969;}#sk-container-id-2 label.sk-toggleable__label-arrow:hover:before {color: black;}#sk-container-id-2 div.sk-estimator:hover label.sk-toggleable__label-arrow:before {color: black;}#sk-container-id-2 div.sk-toggleable__content {max-height: 0;max-width: 0;overflow: hidden;text-align: left;background-color: #f0f8ff;}#sk-container-id-2 div.sk-toggleable__content pre {margin: 0.2em;color: black;border-radius: 0.25em;background-color: #f0f8ff;}#sk-container-id-2 input.sk-toggleable__control:checked~div.sk-toggleable__content {max-height: 200px;max-width: 100%;overflow: auto;}#sk-container-id-2 input.sk-toggleable__control:checked~label.sk-toggleable__label-arrow:before {content: \"▾\";}#sk-container-id-2 div.sk-estimator input.sk-toggleable__control:checked~label.sk-toggleable__label {background-color: #d4ebff;}#sk-container-id-2 div.sk-label input.sk-toggleable__control:checked~label.sk-toggleable__label {background-color: #d4ebff;}#sk-container-id-2 input.sk-hidden--visually {border: 0;clip: rect(1px 1px 1px 1px);clip: rect(1px, 1px, 1px, 1px);height: 1px;margin: -1px;overflow: hidden;padding: 0;position: absolute;width: 1px;}#sk-container-id-2 div.sk-estimator {font-family: monospace;background-color: #f0f8ff;border: 1px dotted black;border-radius: 0.25em;box-sizing: border-box;margin-bottom: 0.5em;}#sk-container-id-2 div.sk-estimator:hover {background-color: #d4ebff;}#sk-container-id-2 div.sk-parallel-item::after {content: \"\";width: 100%;border-bottom: 1px solid gray;flex-grow: 1;}#sk-container-id-2 div.sk-label:hover label.sk-toggleable__label {background-color: #d4ebff;}#sk-container-id-2 div.sk-serial::before {content: \"\";position: absolute;border-left: 1px solid gray;box-sizing: border-box;top: 0;bottom: 0;left: 50%;z-index: 0;}#sk-container-id-2 div.sk-serial {display: flex;flex-direction: column;align-items: center;background-color: white;padding-right: 0.2em;padding-left: 0.2em;position: relative;}#sk-container-id-2 div.sk-item {position: relative;z-index: 1;}#sk-container-id-2 div.sk-parallel {display: flex;align-items: stretch;justify-content: center;background-color: white;position: relative;}#sk-container-id-2 div.sk-item::before, #sk-container-id-2 div.sk-parallel-item::before {content: \"\";position: absolute;border-left: 1px solid gray;box-sizing: border-box;top: 0;bottom: 0;left: 50%;z-index: -1;}#sk-container-id-2 div.sk-parallel-item {display: flex;flex-direction: column;z-index: 1;position: relative;background-color: white;}#sk-container-id-2 div.sk-parallel-item:first-child::after {align-self: flex-end;width: 50%;}#sk-container-id-2 div.sk-parallel-item:last-child::after {align-self: flex-start;width: 50%;}#sk-container-id-2 div.sk-parallel-item:only-child::after {width: 0;}#sk-container-id-2 div.sk-dashed-wrapped {border: 1px dashed gray;margin: 0 0.4em 0.5em 0.4em;box-sizing: border-box;padding-bottom: 0.4em;background-color: white;}#sk-container-id-2 div.sk-label label {font-family: monospace;font-weight: bold;display: inline-block;line-height: 1.2em;}#sk-container-id-2 div.sk-label-container {text-align: center;}#sk-container-id-2 div.sk-container {/* jupyter's `normalize.less` sets `[hidden] { display: none; }` but bootstrap.min.css set `[hidden] { display: none !important; }` so we also need the `!important` here to be able to override the default hidden behavior on the sphinx rendered scikit-learn.org. See: https://github.com/scikit-learn/scikit-learn/issues/21755 */display: inline-block !important;position: relative;}#sk-container-id-2 div.sk-text-repr-fallback {display: none;}</style><div id=\"sk-container-id-2\" class=\"sk-top-container\"><div class=\"sk-text-repr-fallback\"><pre>RandomizedSearchCV(cv=3, error_score=&#x27;raise&#x27;, estimator=RandomForestRegressor(),\n",
       "                   n_iter=100, n_jobs=-1,\n",
       "                   param_distributions={&#x27;bootstrap&#x27;: [True, False],\n",
       "                                        &#x27;max_depth&#x27;: [10, 20, 30, 40, 50, 60,\n",
       "                                                      70, 80, 90, 100, 110,\n",
       "                                                      None],\n",
       "                                        &#x27;max_features&#x27;: [&#x27;log2&#x27;, &#x27;sqrt&#x27;, None],\n",
       "                                        &#x27;min_samples_leaf&#x27;: [1, 2, 4],\n",
       "                                        &#x27;min_samples_split&#x27;: [2, 5, 10],\n",
       "                                        &#x27;n_estimators&#x27;: [100, 200, 300, 400,\n",
       "                                                         500, 600, 700, 800,\n",
       "                                                         900, 1000]},\n",
       "                   random_state=42, verbose=2)</pre><b>In a Jupyter environment, please rerun this cell to show the HTML representation or trust the notebook. <br />On GitHub, the HTML representation is unable to render, please try loading this page with nbviewer.org.</b></div><div class=\"sk-container\" hidden><div class=\"sk-item sk-dashed-wrapped\"><div class=\"sk-label-container\"><div class=\"sk-label sk-toggleable\"><input class=\"sk-toggleable__control sk-hidden--visually\" id=\"sk-estimator-id-2\" type=\"checkbox\" ><label for=\"sk-estimator-id-2\" class=\"sk-toggleable__label sk-toggleable__label-arrow\">RandomizedSearchCV</label><div class=\"sk-toggleable__content\"><pre>RandomizedSearchCV(cv=3, error_score=&#x27;raise&#x27;, estimator=RandomForestRegressor(),\n",
       "                   n_iter=100, n_jobs=-1,\n",
       "                   param_distributions={&#x27;bootstrap&#x27;: [True, False],\n",
       "                                        &#x27;max_depth&#x27;: [10, 20, 30, 40, 50, 60,\n",
       "                                                      70, 80, 90, 100, 110,\n",
       "                                                      None],\n",
       "                                        &#x27;max_features&#x27;: [&#x27;log2&#x27;, &#x27;sqrt&#x27;, None],\n",
       "                                        &#x27;min_samples_leaf&#x27;: [1, 2, 4],\n",
       "                                        &#x27;min_samples_split&#x27;: [2, 5, 10],\n",
       "                                        &#x27;n_estimators&#x27;: [100, 200, 300, 400,\n",
       "                                                         500, 600, 700, 800,\n",
       "                                                         900, 1000]},\n",
       "                   random_state=42, verbose=2)</pre></div></div></div><div class=\"sk-parallel\"><div class=\"sk-parallel-item\"><div class=\"sk-item\"><div class=\"sk-label-container\"><div class=\"sk-label sk-toggleable\"><input class=\"sk-toggleable__control sk-hidden--visually\" id=\"sk-estimator-id-3\" type=\"checkbox\" ><label for=\"sk-estimator-id-3\" class=\"sk-toggleable__label sk-toggleable__label-arrow\">estimator: RandomForestRegressor</label><div class=\"sk-toggleable__content\"><pre>RandomForestRegressor()</pre></div></div></div><div class=\"sk-serial\"><div class=\"sk-item\"><div class=\"sk-estimator sk-toggleable\"><input class=\"sk-toggleable__control sk-hidden--visually\" id=\"sk-estimator-id-4\" type=\"checkbox\" ><label for=\"sk-estimator-id-4\" class=\"sk-toggleable__label sk-toggleable__label-arrow\">RandomForestRegressor</label><div class=\"sk-toggleable__content\"><pre>RandomForestRegressor()</pre></div></div></div></div></div></div></div></div></div></div>"
      ],
      "text/plain": [
       "RandomizedSearchCV(cv=3, error_score='raise', estimator=RandomForestRegressor(),\n",
       "                   n_iter=100, n_jobs=-1,\n",
       "                   param_distributions={'bootstrap': [True, False],\n",
       "                                        'max_depth': [10, 20, 30, 40, 50, 60,\n",
       "                                                      70, 80, 90, 100, 110,\n",
       "                                                      None],\n",
       "                                        'max_features': ['log2', 'sqrt', None],\n",
       "                                        'min_samples_leaf': [1, 2, 4],\n",
       "                                        'min_samples_split': [2, 5, 10],\n",
       "                                        'n_estimators': [100, 200, 300, 400,\n",
       "                                                         500, 600, 700, 800,\n",
       "                                                         900, 1000]},\n",
       "                   random_state=42, verbose=2)"
      ]
     },
     "execution_count": 14,
     "metadata": {},
     "output_type": "execute_result"
    }
   ],
   "source": [
    "# Use the random grid to search for best hyperparameters\n",
    "# First create the base model to tune\n",
    "rf = RandomForestRegressor()\n",
    "# Random search of parameters, using 3 fold cross validation, \n",
    "# search across 100 different combinations, and use all available cores\n",
    "rf_random = RandomizedSearchCV(estimator = rf, param_distributions = random_grid, n_iter = 100, cv = 3, verbose=2, random_state=42, n_jobs = -1, error_score='raise')\n",
    "# Fit the random search model\n",
    "rf_random.fit(X_train_vals, y_train_vals)"
   ]
  },
  {
   "cell_type": "code",
   "execution_count": 15,
   "metadata": {},
   "outputs": [
    {
     "data": {
      "text/plain": [
       "{'n_estimators': 200,\n",
       " 'min_samples_split': 10,\n",
       " 'min_samples_leaf': 4,\n",
       " 'max_features': 'log2',\n",
       " 'max_depth': 20,\n",
       " 'bootstrap': True}"
      ]
     },
     "execution_count": 15,
     "metadata": {},
     "output_type": "execute_result"
    }
   ],
   "source": [
    "rf_random.best_params_\n"
   ]
  },
  {
   "cell_type": "code",
   "execution_count": 16,
   "metadata": {},
   "outputs": [
    {
     "name": "stdout",
     "output_type": "stream",
     "text": [
      "Model Performance\n",
      "Average Error: 0.9642 degrees.\n",
      "Accuracy = 72.16%.\n",
      "Model Performance\n",
      "Average Error: 0.8941 degrees.\n",
      "Accuracy = 73.40%.\n",
      "Improvement of 1.71%.\n"
     ]
    }
   ],
   "source": [
    "def evaluate(model, X, y):\n",
    "    predictions = model.predict(X)\n",
    "    errors = abs(predictions - y)\n",
    "    # mean absolute percentage error\n",
    "    mape = 100 * np.mean(errors / y)\n",
    "    accuracy = 100 - mape\n",
    "    print('Model Performance')\n",
    "    print('Average Error: {:0.4f} degrees.'.format(np.mean(errors)))\n",
    "    print('Accuracy = {:0.2f}%.'.format(accuracy))\n",
    "    return accuracy\n",
    "\n",
    "base_model = RandomForestRegressor(n_estimators = 10, random_state = 42)\n",
    "base_model.fit(X_train_vals, y_train_vals)\n",
    "base_accuracy = evaluate(base_model, X_test_vals, y_test_vals)\n",
    "\n",
    "best_random = rf_random.best_estimator_\n",
    "random_accuracy = evaluate(best_random, X_test_vals, y_test_vals)\n",
    "\n",
    "print('Improvement of {:0.2f}%.'.format( 100 * (random_accuracy - base_accuracy) / base_accuracy))"
   ]
  },
  {
   "cell_type": "code",
   "execution_count": null,
   "metadata": {},
   "outputs": [],
   "source": []
  },
  {
   "cell_type": "code",
   "execution_count": 17,
   "metadata": {},
   "outputs": [
    {
     "data": {
      "text/plain": [
       "{'n_estimators': 200,\n",
       " 'min_samples_split': 10,\n",
       " 'min_samples_leaf': 4,\n",
       " 'max_features': 'log2',\n",
       " 'max_depth': 20,\n",
       " 'bootstrap': True}"
      ]
     },
     "execution_count": 17,
     "metadata": {},
     "output_type": "execute_result"
    }
   ],
   "source": [
    "rf_random.best_params_\n"
   ]
  },
  {
   "cell_type": "code",
   "execution_count": 18,
   "metadata": {},
   "outputs": [],
   "source": [
    "from sklearn.model_selection import GridSearchCV\n",
    "# Create the parameter grid based on the results of random search \n",
    "param_grid = {\n",
    "    'bootstrap': [True],\n",
    "    'max_depth': [8, 9, 10],\n",
    "    'max_features': [2, 3, 'log2'],\n",
    "    'min_samples_leaf': [2, 3, 4],\n",
    "    'min_samples_split': [8, 9, 10],\n",
    "    'n_estimators': [80, 100, 150, 200, 250]\n",
    "}\n",
    "\n",
    "# Create a based model\n",
    "rf = RandomForestRegressor()\n",
    "# Instantiate the grid search model\n",
    "grid_search = GridSearchCV(estimator = rf, param_grid = param_grid, \n",
    "                          cv = 3, n_jobs = -1, verbose = 2)"
   ]
  },
  {
   "cell_type": "code",
   "execution_count": 19,
   "metadata": {},
   "outputs": [
    {
     "name": "stdout",
     "output_type": "stream",
     "text": [
      "Fitting 3 folds for each of 405 candidates, totalling 1215 fits\n"
     ]
    },
    {
     "data": {
      "text/plain": [
       "{'bootstrap': True,\n",
       " 'max_depth': 8,\n",
       " 'max_features': 3,\n",
       " 'min_samples_leaf': 4,\n",
       " 'min_samples_split': 9,\n",
       " 'n_estimators': 80}"
      ]
     },
     "execution_count": 19,
     "metadata": {},
     "output_type": "execute_result"
    }
   ],
   "source": [
    "# Fit the grid search to the data\n",
    "grid_search.fit(X_train_vals, y_train_vals)\n",
    "\n",
    "grid_search.best_params_"
   ]
  },
  {
   "cell_type": "code",
   "execution_count": 20,
   "metadata": {},
   "outputs": [
    {
     "name": "stdout",
     "output_type": "stream",
     "text": [
      "Model Performance\n",
      "Average Error: 0.9088 degrees.\n",
      "Accuracy = 72.71%.\n",
      "Improvement of 0.76%.\n"
     ]
    }
   ],
   "source": [
    "best_grid = grid_search.best_estimator_\n",
    "grid_accuracy = evaluate(best_grid, X_test_vals, y_test_vals)\n",
    "\n",
    "print('Improvement of {:0.2f}%.'.format( 100 * (grid_accuracy - base_accuracy) / base_accuracy))"
   ]
  },
  {
   "cell_type": "code",
   "execution_count": 21,
   "metadata": {},
   "outputs": [],
   "source": [
    "y_hat_train = best_grid.predict(X_train_vals)\n",
    "y_hat_test = best_grid.predict(X_test_vals)"
   ]
  },
  {
   "cell_type": "code",
   "execution_count": 22,
   "metadata": {},
   "outputs": [],
   "source": [
    "# inverse yeo-johnshon transformation\n",
    "inv_y_train = pt_yj_wo_std.inverse_transform(y_train_vals.reshape(-1, 1))\n",
    "inv_y_test = pt_yj_wo_std.inverse_transform(y_test_vals.reshape(-1, 1))\n",
    "\n",
    "inv_y_hat_train = pt_yj_wo_std.inverse_transform(y_hat_train.reshape(-1, 1))\n",
    "inv_y_hat_test = pt_yj_wo_std.inverse_transform(y_hat_test.reshape(-1, 1))"
   ]
  },
  {
   "cell_type": "code",
   "execution_count": 23,
   "metadata": {},
   "outputs": [
    {
     "data": {
      "image/png": "[encoded data removed]",
      "text/plain": [
       "<Figure size 720x720 with 1 Axes>"
      ]
     },
     "metadata": {
      "needs_background": "light"
     },
     "output_type": "display_data"
    },
    {
     "data": {
      "image/png": "[encoded data removed]",
      "text/plain": [
       "<Figure size 720x720 with 1 Axes>"
      ]
     },
     "metadata": {
      "needs_background": "light"
     },
     "output_type": "display_data"
    }
   ],
   "source": [
    "plot_true_v_pred(inv_y_train, inv_y_hat_train, \"Train RF-best-grid\")\n",
    "plot_true_v_pred(inv_y_test, inv_y_hat_test, \"Test RF-best-grid\")"
   ]
  },
  {
   "cell_type": "code",
   "execution_count": 24,
   "metadata": {},
   "outputs": [],
   "source": [
    "def display_metrics(y_true, y_pred, label):\n",
    "    print('**',label,'**')\n",
    "    print('Mean Absolute Error (MAE):', metrics.mean_absolute_error(y_true, y_pred))\n",
    "    print('Mean Squared Error (MSE):', metrics.mean_squared_error(y_true, y_pred))\n",
    "    print('Root Mean Squared Error (RMSE):', metrics.mean_squared_error(y_true, y_pred, squared=False))\n",
    "    print('Mean Absolute Percentage Error (MAPE):', metrics.mean_absolute_percentage_error(y_true, y_pred))\n",
    "    print('Explained Variance Score:', metrics.explained_variance_score(y_true, y_pred))\n",
    "    print('Max Error:', metrics.max_error(y_true, y_pred))\n",
    "    print('Mean Squared Log Error:', metrics.mean_squared_log_error(y_true, y_pred))\n",
    "    print('Median Absolute Error:', metrics.median_absolute_error(y_true, y_pred))\n",
    "    print('R^2:', metrics.r2_score(y_true, y_pred))\n",
    "    print('Mean Poisson Deviance:', metrics.mean_poisson_deviance(y_true, y_pred))\n",
    "    print('Mean Gamma Deviance:', metrics.mean_gamma_deviance(y_true, y_pred))"
   ]
  },
  {
   "cell_type": "code",
   "execution_count": 25,
   "metadata": {},
   "outputs": [
    {
     "name": "stdout",
     "output_type": "stream",
     "text": [
      "** Train **\n",
      "Mean Absolute Error (MAE): 7.434812003557832\n",
      "Mean Squared Error (MSE): 134.3991990168987\n",
      "Root Mean Squared Error (RMSE): 11.593066851221842\n",
      "Mean Absolute Percentage Error (MAPE): 19.46295182752466\n",
      "Explained Variance Score: 0.44579902288930484\n",
      "Max Error: 45.99595306262602\n",
      "Mean Squared Log Error: 0.35503908939462436\n",
      "Median Absolute Error: 4.171094758825616\n",
      "R^2: 0.37823348875636176\n",
      "Mean Poisson Deviance: 5.800693277215241\n",
      "Mean Gamma Deviance: 0.49879665884300567\n"
     ]
    }
   ],
   "source": [
    "display_metrics(inv_y_train, inv_y_hat_train, 'Train')"
   ]
  },
  {
   "cell_type": "code",
   "execution_count": 26,
   "metadata": {},
   "outputs": [
    {
     "name": "stdout",
     "output_type": "stream",
     "text": [
      "** Test **\n",
      "Mean Absolute Error (MAE): 10.529234721977993\n",
      "Mean Squared Error (MSE): 266.097496533298\n",
      "Root Mean Squared Error (RMSE): 16.31249510446817\n",
      "Mean Absolute Percentage Error (MAPE): 0.6946000312298934\n",
      "Explained Variance Score: -0.025215841110293402\n",
      "Max Error: 64.53861090444587\n",
      "Mean Squared Log Error: 0.5231356521005669\n",
      "Median Absolute Error: 6.346586166635275\n",
      "R^2: -0.1609325865854101\n",
      "Mean Poisson Deviance: 12.846791627113362\n",
      "Mean Gamma Deviance: 0.7574533315329256\n"
     ]
    }
   ],
   "source": [
    "display_metrics(inv_y_test, inv_y_hat_test, 'Test')"
   ]
  },
  {
   "cell_type": "code",
   "execution_count": 27,
   "metadata": {},
   "outputs": [
    {
     "data": {
      "image/png": "[encoded data removed]",
      "text/plain": [
       "<Figure size 432x288 with 1 Axes>"
      ]
     },
     "metadata": {
      "needs_background": "light"
     },
     "output_type": "display_data"
    }
   ],
   "source": [
    "plt.plot(inv_y_train)\n",
    "plt.plot(inv_y_hat_train, 'o')\n",
    "\n",
    "plt.show()"
   ]
  },
  {
   "cell_type": "code",
   "execution_count": 28,
   "metadata": {},
   "outputs": [
    {
     "data": {
      "image/png": "[encoded data removed]",
      "text/plain": [
       "<Figure size 432x288 with 1 Axes>"
      ]
     },
     "metadata": {
      "needs_background": "light"
     },
     "output_type": "display_data"
    }
   ],
   "source": [
    "plt.plot(inv_y_test)\n",
    "plt.plot(inv_y_hat_test, 'o')\n",
    "\n",
    "plt.show()"
   ]
  },
  {
   "cell_type": "markdown",
   "metadata": {},
   "source": [
    "### Gradient Boosting Regression"
   ]
  },
  {
   "cell_type": "code",
   "execution_count": 29,
   "metadata": {},
   "outputs": [
    {
     "name": "stdout",
     "output_type": "stream",
     "text": [
      "Fitting 3 folds for each of 27 candidates, totalling 81 fits\n"
     ]
    },
    {
     "data": {
      "text/plain": [
       "{'learning_rate': 0.001, 'max_depth': 9, 'n_estimators': 80}"
      ]
     },
     "execution_count": 29,
     "metadata": {},
     "output_type": "execute_result"
    }
   ],
   "source": [
    "param_grid = {\n",
    "    'learning_rate' : [0.001, 0.01, 0.1],\n",
    "    # 'loss': ['squared_error', 'absolute_error', 'huber'],\n",
    "    'max_depth': [7, 8, 9],\n",
    "    # 'min_samples_leaf': [2, 3, 4],\n",
    "    # 'min_samples_split': [8, 9, 10],\n",
    "    'n_estimators': [80, 100, 120]\n",
    "}\n",
    "\n",
    "# Create a based model\n",
    "xgb_mod = xgb.XGBRegressor()\n",
    "# Instantiate the grid search model\n",
    "grid_search = GridSearchCV(estimator = xgb_mod, param_grid = param_grid, \n",
    "                          cv = 3, n_jobs = -1, verbose = 2)\n",
    "\n",
    "# Fit the grid search to the data\n",
    "grid_search.fit(X_train_vals, y_train_vals)\n",
    "\n",
    "grid_search.best_params_\n"
   ]
  },
  {
   "cell_type": "code",
   "execution_count": 30,
   "metadata": {},
   "outputs": [
    {
     "name": "stdout",
     "output_type": "stream",
     "text": [
      "Model Performance\n",
      "Average Error: 0.9003 degrees.\n",
      "Accuracy = 73.48%.\n",
      "Improvement of 1.82%.\n"
     ]
    }
   ],
   "source": [
    "\n",
    "best_xgb_mod = grid_search.best_estimator_\n",
    "grid_accuracy = evaluate(best_xgb_mod, X_test_vals, y_test_vals)\n",
    "\n",
    "print('Improvement of {:0.2f}%.'.format( 100 * (grid_accuracy - base_accuracy) / base_accuracy))"
   ]
  },
  {
   "cell_type": "code",
   "execution_count": 31,
   "metadata": {},
   "outputs": [],
   "source": [
    "y_hat_train = best_xgb_mod.predict(X_train_vals)\n",
    "y_hat_test = best_xgb_mod.predict(X_test_vals)"
   ]
  },
  {
   "cell_type": "code",
   "execution_count": 32,
   "metadata": {},
   "outputs": [],
   "source": [
    "# inverse yeo-johnshon transformation\n",
    "inv_y_train = pt_yj_wo_std.inverse_transform(y_train_vals.reshape(-1, 1))\n",
    "inv_y_test = pt_yj_wo_std.inverse_transform(y_test_vals.reshape(-1, 1))\n",
    "\n",
    "inv_y_hat_train = pt_yj_wo_std.inverse_transform(y_hat_train.reshape(-1, 1))\n",
    "inv_y_hat_test = pt_yj_wo_std.inverse_transform(y_hat_test.reshape(-1, 1))"
   ]
  },
  {
   "cell_type": "code",
   "execution_count": 33,
   "metadata": {},
   "outputs": [
    {
     "data": {
      "image/png": "[encoded data removed]",
      "text/plain": [
       "<Figure size 720x720 with 1 Axes>"
      ]
     },
     "metadata": {
      "needs_background": "light"
     },
     "output_type": "display_data"
    },
    {
     "data": {
      "image/png": "[encoded data removed]",
      "text/plain": [
       "<Figure size 720x720 with 1 Axes>"
      ]
     },
     "metadata": {
      "needs_background": "light"
     },
     "output_type": "display_data"
    }
   ],
   "source": [
    "plot_true_v_pred(inv_y_train, inv_y_hat_train, \"Train XGB -best-grid\")\n",
    "plot_true_v_pred(inv_y_test, inv_y_hat_test, \"Test XGB -best-grid\")"
   ]
  },
  {
   "cell_type": "code",
   "execution_count": 34,
   "metadata": {},
   "outputs": [
    {
     "name": "stdout",
     "output_type": "stream",
     "text": [
      "** XGB-Train **\n",
      "Mean Absolute Error (MAE): 9.88538449179164\n",
      "Mean Squared Error (MSE): 214.62267944748996\n",
      "Root Mean Squared Error (RMSE): 14.650006124486431\n",
      "Mean Absolute Percentage Error (MAPE): 32.608556793697936\n",
      "Explained Variance Score: 0.08829615960351278\n",
      "Max Error: 53.19264507293698\n",
      "Mean Squared Log Error: 0.6543545409517046\n",
      "Median Absolute Error: 6.6176328277587935\n",
      "R^2: 0.007098289201494579\n",
      "Mean Poisson Deviance: 10.83785208144475\n",
      "Mean Gamma Deviance: 0.8411775464960004\n"
     ]
    }
   ],
   "source": [
    "display_metrics(inv_y_train, inv_y_hat_train, 'XGB-Train')"
   ]
  },
  {
   "cell_type": "code",
   "execution_count": 35,
   "metadata": {},
   "outputs": [
    {
     "name": "stdout",
     "output_type": "stream",
     "text": [
      "** XGB-Test **\n",
      "Mean Absolute Error (MAE): 10.416932145552195\n",
      "Mean Squared Error (MSE): 261.2990974921318\n",
      "Root Mean Squared Error (RMSE): 16.164748605905746\n",
      "Mean Absolute Percentage Error (MAPE): 0.6312708906894843\n",
      "Explained Variance Score: 0.004800124639160797\n",
      "Max Error: 61.80496864318839\n",
      "Mean Squared Log Error: 0.47376581465376844\n",
      "Median Absolute Error: 6.610159691897295\n",
      "R^2: -0.1399980874529354\n",
      "Mean Poisson Deviance: 12.236551131742258\n",
      "Mean Gamma Deviance: 0.6885253959228246\n"
     ]
    }
   ],
   "source": [
    "display_metrics(inv_y_test, inv_y_hat_test, 'XGB-Test')"
   ]
  },
  {
   "cell_type": "code",
   "execution_count": null,
   "metadata": {},
   "outputs": [],
   "source": []
  },
  {
   "cell_type": "code",
   "execution_count": null,
   "metadata": {},
   "outputs": [],
   "source": []
  },
  {
   "cell_type": "code",
   "execution_count": null,
   "metadata": {},
   "outputs": [],
   "source": []
  },
  {
   "cell_type": "code",
   "execution_count": null,
   "metadata": {},
   "outputs": [],
   "source": []
  },
  {
   "cell_type": "code",
   "execution_count": null,
   "metadata": {},
   "outputs": [],
   "source": []
  },
  {
   "cell_type": "code",
   "execution_count": null,
   "metadata": {},
   "outputs": [],
   "source": []
  }
 ],
 "metadata": {
  "kernelspec": {
   "display_name": "proteins",
   "language": "python",
   "name": "python3"
  },
  "language_info": {
   "codemirror_mode": {
    "name": "ipython",
    "version": 3
   },
   "file_extension": ".py",
   "mimetype": "text/x-python",
   "name": "python",
   "nbconvert_exporter": "python",
   "pygments_lexer": "ipython3",
   "version": "3.8.18"
  }
 },
 "nbformat": 4,
 "nbformat_minor": 2
}
