{
 "cells": [
  {
   "cell_type": "markdown",
   "metadata": {},
   "source": [
    "# Integrase EDA"
   ]
  },
  {
   "cell_type": "code",
   "execution_count": 121,
   "metadata": {},
   "outputs": [],
   "source": [
    "import numpy as np\n",
    "import pandas as pd\n",
    "import torch\n",
    "\n",
    "from Bio.Seq import Seq\n",
    "\n",
    "from scipy import stats\n",
    "from sklearn.ensemble import AdaBoostRegressor\n",
    "from sklearn.ensemble import RandomForestRegressor\n",
    "from sklearn.ensemble import RandomForestClassifier\n",
    "from sklearn.linear_model import RidgeCV\n",
    "from sklearn.linear_model import LassoCV\n",
    "from sklearn.model_selection import cross_val_score, train_test_split, GridSearchCV\n",
    "from sklearn.tree import DecisionTreeRegressor\n",
    "from sklearn.preprocessing import PowerTransformer\n",
    "\n",
    "from sklearn.metrics import mean_squared_error, mean_absolute_error, r2_score, mean_absolute_percentage_error,mean_poisson_deviance,mean_gamma_deviance, explained_variance_score, max_error, mean_squared_log_error, median_absolute_error\n",
    "import matplotlib.pyplot as plt\n",
    "\n",
    "import pickle"
   ]
  },
  {
   "cell_type": "code",
   "execution_count": 2,
   "metadata": {},
   "outputs": [],
   "source": [
    "data_dir = \"/data/rajan/integrase\"\n",
    "emb_dir = f\"{data_dir}/emb\"\n",
    "esm2_3B_emb_dir = f\"{emb_dir}/esm2_3B\"\n",
    "ORF_emb_dir = f\"{esm2_3B_emb_dir}/ORF\"\n",
    "seq_emb_dir = f\"{esm2_3B_emb_dir}/seqs\"\n",
    "attB_emb_dir = f\"{esm2_3B_emb_dir}/attB\"\n",
    "attP_emb_dir = f\"{esm2_3B_emb_dir}/attP\"\n",
    "fasta_dir = f\"{data_dir}/fasta\""
   ]
  },
  {
   "cell_type": "code",
   "execution_count": 3,
   "metadata": {},
   "outputs": [],
   "source": [
    "data = pd.read_excel(f\"{data_dir}/integrase_w_efficiency.xlsx\", sheet_name=\"Helper\")"
   ]
  },
  {
   "cell_type": "code",
   "execution_count": 4,
   "metadata": {},
   "outputs": [
    {
     "data": {
      "text/html": [
       "<div>\n",
       "<style scoped>\n",
       "    .dataframe tbody tr th:only-of-type {\n",
       "        vertical-align: middle;\n",
       "    }\n",
       "\n",
       "    .dataframe tbody tr th {\n",
       "        vertical-align: top;\n",
       "    }\n",
       "\n",
       "    .dataframe thead th {\n",
       "        text-align: right;\n",
       "    }\n",
       "</style>\n",
       "<table border=\"1\" class=\"dataframe\">\n",
       "  <thead>\n",
       "    <tr style=\"text-align: right;\">\n",
       "      <th></th>\n",
       "      <th>#</th>\n",
       "      <th>Int Name</th>\n",
       "      <th>Efficiency</th>\n",
       "      <th>ATTB</th>\n",
       "      <th>ATTP</th>\n",
       "      <th>ORF</th>\n",
       "    </tr>\n",
       "  </thead>\n",
       "  <tbody>\n",
       "    <tr>\n",
       "      <th>0</th>\n",
       "      <td>1</td>\n",
       "      <td>Int1</td>\n",
       "      <td>8.454545</td>\n",
       "      <td>ggaactccgccgggcccatctggtcgaagaagatgaaggggcccac...</td>\n",
       "      <td>atggggtcacaataccaatcatgttcaagaatgtgaagggtatttt...</td>\n",
       "      <td>ATGACCAACCCCGCCTCCAGACCTAAGGCCTACAGCTACATCAGAA...</td>\n",
       "    </tr>\n",
       "    <tr>\n",
       "      <th>1</th>\n",
       "      <td>2</td>\n",
       "      <td>Int2</td>\n",
       "      <td>29.568182</td>\n",
       "      <td>ggacggcgcagaaggggagtagctcttcgccggaccgtcgacatac...</td>\n",
       "      <td>gctcatgtatgtgtctacgcgagattctcgcccgagaacttctgca...</td>\n",
       "      <td>ATGCCTATCGCCCCTGAGTTCCTGTCTCTGGCTTATCCTGGACAGG...</td>\n",
       "    </tr>\n",
       "    <tr>\n",
       "      <th>2</th>\n",
       "      <td>3</td>\n",
       "      <td>Int3</td>\n",
       "      <td>14.636364</td>\n",
       "      <td>gtttgtaaaggagactgataatggcatgtacaactatactcgtcgg...</td>\n",
       "      <td>atggataaaaaaatacagcgtttttcatgtacaactatactagttg...</td>\n",
       "      <td>ATGCGGAAGGTGGCCATCTATAGCCGGGTGTCTACAATTAACCAAG...</td>\n",
       "    </tr>\n",
       "    <tr>\n",
       "      <th>3</th>\n",
       "      <td>4</td>\n",
       "      <td>Int4</td>\n",
       "      <td>31.500000</td>\n",
       "      <td>ttccaaagagcgcccaacgcgacctgaaatttgaataagactgctg...</td>\n",
       "      <td>caaaaattacaaagttttcaacccttgatttgaattagcggtcaaa...</td>\n",
       "      <td>ATGATCACAACCAGGAAGGTGGCCATCTACGTGCGGGTGTCCACCA...</td>\n",
       "    </tr>\n",
       "    <tr>\n",
       "      <th>4</th>\n",
       "      <td>5</td>\n",
       "      <td>Int5</td>\n",
       "      <td>14.568182</td>\n",
       "      <td>gagcgccggatcagggagtggacggcctgggagcgctacacgctgt...</td>\n",
       "      <td>ccctaatacgcaagtcgataactctcctgggagcgttgacaacttg...</td>\n",
       "      <td>ATGCCAGGGATGACCACAGAAACCGGACCTGACCCAGCCGGACTTA...</td>\n",
       "    </tr>\n",
       "  </tbody>\n",
       "</table>\n",
       "</div>"
      ],
      "text/plain": [
       "   # Int Name  Efficiency                                               ATTB  \\\n",
       "0  1     Int1    8.454545  ggaactccgccgggcccatctggtcgaagaagatgaaggggcccac...   \n",
       "1  2     Int2   29.568182  ggacggcgcagaaggggagtagctcttcgccggaccgtcgacatac...   \n",
       "2  3     Int3   14.636364  gtttgtaaaggagactgataatggcatgtacaactatactcgtcgg...   \n",
       "3  4     Int4   31.500000  ttccaaagagcgcccaacgcgacctgaaatttgaataagactgctg...   \n",
       "4  5     Int5   14.568182  gagcgccggatcagggagtggacggcctgggagcgctacacgctgt...   \n",
       "\n",
       "                                                ATTP  \\\n",
       "0  atggggtcacaataccaatcatgttcaagaatgtgaagggtatttt...   \n",
       "1  gctcatgtatgtgtctacgcgagattctcgcccgagaacttctgca...   \n",
       "2  atggataaaaaaatacagcgtttttcatgtacaactatactagttg...   \n",
       "3  caaaaattacaaagttttcaacccttgatttgaattagcggtcaaa...   \n",
       "4  ccctaatacgcaagtcgataactctcctgggagcgttgacaacttg...   \n",
       "\n",
       "                                                 ORF  \n",
       "0  ATGACCAACCCCGCCTCCAGACCTAAGGCCTACAGCTACATCAGAA...  \n",
       "1  ATGCCTATCGCCCCTGAGTTCCTGTCTCTGGCTTATCCTGGACAGG...  \n",
       "2  ATGCGGAAGGTGGCCATCTATAGCCGGGTGTCTACAATTAACCAAG...  \n",
       "3  ATGATCACAACCAGGAAGGTGGCCATCTACGTGCGGGTGTCCACCA...  \n",
       "4  ATGCCAGGGATGACCACAGAAACCGGACCTGACCCAGCCGGACTTA...  "
      ]
     },
     "execution_count": 4,
     "metadata": {},
     "output_type": "execute_result"
    }
   ],
   "source": [
    "data.head()"
   ]
  },
  {
   "cell_type": "code",
   "execution_count": 5,
   "metadata": {},
   "outputs": [
    {
     "name": "stderr",
     "output_type": "stream",
     "text": [
      "/home/rajan/miniconda3/envs/proteins/lib/python3.8/site-packages/Bio/Seq.py:2804: BiopythonWarning: Partial codon, len(sequence) not a multiple of three. Explicitly trim the sequence or add trailing N before translation. This may become an error in future.\n",
      "  warnings.warn(\n"
     ]
    }
   ],
   "source": [
    "# Convert DNA protein-coding ORFs to protein ORFs\n",
    "\n",
    "data['seq'] = data.ORF.apply(lambda x: str(Seq(x).translate()).replace('*',''))\n"
   ]
  },
  {
   "cell_type": "code",
   "execution_count": 6,
   "metadata": {},
   "outputs": [
    {
     "data": {
      "text/html": [
       "<div>\n",
       "<style scoped>\n",
       "    .dataframe tbody tr th:only-of-type {\n",
       "        vertical-align: middle;\n",
       "    }\n",
       "\n",
       "    .dataframe tbody tr th {\n",
       "        vertical-align: top;\n",
       "    }\n",
       "\n",
       "    .dataframe thead th {\n",
       "        text-align: right;\n",
       "    }\n",
       "</style>\n",
       "<table border=\"1\" class=\"dataframe\">\n",
       "  <thead>\n",
       "    <tr style=\"text-align: right;\">\n",
       "      <th></th>\n",
       "      <th>#</th>\n",
       "      <th>Int Name</th>\n",
       "      <th>Efficiency</th>\n",
       "      <th>ATTB</th>\n",
       "      <th>ATTP</th>\n",
       "      <th>ORF</th>\n",
       "      <th>seq</th>\n",
       "    </tr>\n",
       "  </thead>\n",
       "  <tbody>\n",
       "    <tr>\n",
       "      <th>0</th>\n",
       "      <td>1</td>\n",
       "      <td>Int1</td>\n",
       "      <td>8.454545</td>\n",
       "      <td>ggaactccgccgggcccatctggtcgaagaagatgaaggggcccac...</td>\n",
       "      <td>atggggtcacaataccaatcatgttcaagaatgtgaagggtatttt...</td>\n",
       "      <td>ATGACCAACCCCGCCTCCAGACCTAAGGCCTACAGCTACATCAGAA...</td>\n",
       "      <td>MTNPASRPKAYSYIRMSSAIQIKGDSFRRQAEASAKYAAEHDLDLI...</td>\n",
       "    </tr>\n",
       "    <tr>\n",
       "      <th>1</th>\n",
       "      <td>2</td>\n",
       "      <td>Int2</td>\n",
       "      <td>29.568182</td>\n",
       "      <td>ggacggcgcagaaggggagtagctcttcgccggaccgtcgacatac...</td>\n",
       "      <td>gctcatgtatgtgtctacgcgagattctcgcccgagaacttctgca...</td>\n",
       "      <td>ATGCCTATCGCCCCTGAGTTCCTGTCTCTGGCTTATCCTGGACAGG...</td>\n",
       "      <td>MPIAPEFLSLAYPGQEFPAYLYGRASRDPKRKGRSVQSQLDEGRAT...</td>\n",
       "    </tr>\n",
       "    <tr>\n",
       "      <th>2</th>\n",
       "      <td>3</td>\n",
       "      <td>Int3</td>\n",
       "      <td>14.636364</td>\n",
       "      <td>gtttgtaaaggagactgataatggcatgtacaactatactcgtcgg...</td>\n",
       "      <td>atggataaaaaaatacagcgtttttcatgtacaactatactagttg...</td>\n",
       "      <td>ATGCGGAAGGTGGCCATCTATAGCCGGGTGTCTACAATTAACCAAG...</td>\n",
       "      <td>MRKVAIYSRVSTINQAEEGYSIQGQIEALTKYCEAMEWKIYKNYSD...</td>\n",
       "    </tr>\n",
       "    <tr>\n",
       "      <th>3</th>\n",
       "      <td>4</td>\n",
       "      <td>Int4</td>\n",
       "      <td>31.500000</td>\n",
       "      <td>ttccaaagagcgcccaacgcgacctgaaatttgaataagactgctg...</td>\n",
       "      <td>caaaaattacaaagttttcaacccttgatttgaattagcggtcaaa...</td>\n",
       "      <td>ATGATCACAACCAGGAAGGTGGCCATCTACGTGCGGGTGTCCACCA...</td>\n",
       "      <td>MITTRKVAIYVRVSTTNQAEEGYSIQGQIDSLIKYCEAMGWIIYEE...</td>\n",
       "    </tr>\n",
       "    <tr>\n",
       "      <th>4</th>\n",
       "      <td>5</td>\n",
       "      <td>Int5</td>\n",
       "      <td>14.568182</td>\n",
       "      <td>gagcgccggatcagggagtggacggcctgggagcgctacacgctgt...</td>\n",
       "      <td>ccctaatacgcaagtcgataactctcctgggagcgttgacaacttg...</td>\n",
       "      <td>ATGCCAGGGATGACCACAGAAACCGGACCTGACCCAGCCGGACTTA...</td>\n",
       "      <td>MPGMTTETGPDPAGLIDLFCRKSKAVKSRANGAGQRRKQEISIAAQ...</td>\n",
       "    </tr>\n",
       "    <tr>\n",
       "      <th>...</th>\n",
       "      <td>...</td>\n",
       "      <td>...</td>\n",
       "      <td>...</td>\n",
       "      <td>...</td>\n",
       "      <td>...</td>\n",
       "      <td>...</td>\n",
       "      <td>...</td>\n",
       "    </tr>\n",
       "    <tr>\n",
       "      <th>194</th>\n",
       "      <td>195</td>\n",
       "      <td>Meta12</td>\n",
       "      <td>7.405000</td>\n",
       "      <td>GACGGGAAACTGAAAATGTGTTCACAGGTTGCTCCGGGCTATGAAA...</td>\n",
       "      <td>TATGCAGTCTATTTTTTAGACTAAATGCATTGTAATACATTGATAT...</td>\n",
       "      <td>ATGGGAAGAAGGCGAAGTCATGAGCGCCGGGATTTACCCCCTAACC...</td>\n",
       "      <td>MGRRRSHERRDLPPNLYIRNNGYYCYRDPRTGKEFGLGRDRRIAIT...</td>\n",
       "    </tr>\n",
       "    <tr>\n",
       "      <th>195</th>\n",
       "      <td>196</td>\n",
       "      <td>Meta13</td>\n",
       "      <td>40.050000</td>\n",
       "      <td>TATTAGTTTTAAAAAATGTATATTTTTTGTTTTTGTATATTAGATA...</td>\n",
       "      <td>AAAACAGCCTCCTGCAAATGTGGCGATTTCTTTTTTTTCAGACATA...</td>\n",
       "      <td>ATGACCAAACCAATTGAAAAGAATATGCTCAGATCTCGAGCAATAA...</td>\n",
       "      <td>MTKPIEKNMLRSRAIKLPEVTESMWEQVDEEHRNLVQEFLDAHSFR...</td>\n",
       "    </tr>\n",
       "    <tr>\n",
       "      <th>196</th>\n",
       "      <td>197</td>\n",
       "      <td>Meta15</td>\n",
       "      <td>8.395000</td>\n",
       "      <td>ATTAGCGGGTATACTCATGCCGCATTGTCCTCTTAGTTAAATGGAT...</td>\n",
       "      <td>TGAGGCATTTTCATTTATCAAGATATCCAGACCTACCATCGCCGCA...</td>\n",
       "      <td>ATGCTCACCGTTAAGCAGATTGAAGCAGCAAAGCCGAAAGAAAAAC...</td>\n",
       "      <td>MLTVKQIEAAKPKEKPYRLLDGNGLYLYVPVSGKKVWQLRYKIDGK...</td>\n",
       "    </tr>\n",
       "    <tr>\n",
       "      <th>197</th>\n",
       "      <td>198</td>\n",
       "      <td>Meta16</td>\n",
       "      <td>8.535000</td>\n",
       "      <td>GAGAAAGTCGCGTCCTGCGCCAGTACGTTCTTAGCCATCTGACCAA...</td>\n",
       "      <td>TCATATGAACTCGCTACGGCGGGTTTTGTTTTATGGAGTGAATGAT...</td>\n",
       "      <td>ATGTCACTATTCCGCAGAGGTGAAACCTGGTACTCCAGTTTCACAT...</td>\n",
       "      <td>MSLFRRGETWYSSFTLPNGKRFKQSLGTKDKRQATELHDKLKAEAW...</td>\n",
       "    </tr>\n",
       "    <tr>\n",
       "      <th>198</th>\n",
       "      <td>199</td>\n",
       "      <td>Meta17</td>\n",
       "      <td>38.800000</td>\n",
       "      <td>TATTAGTTTTAAAAAATGTATATTTTTTGTTTTTGTATATTAGATA...</td>\n",
       "      <td>AAAACAGCCTCCTGCAAATGTGGCGATTTCTTTTTTTTCAGACATA...</td>\n",
       "      <td>ATGCAAAATAAAATTAAACAATTAAAAAATTATGCGGTTTACGATG...</td>\n",
       "      <td>MQNKIKQLKNYAVYDDIEGFLINKDIRSSSGNSNYMMPSSTRRVSN...</td>\n",
       "    </tr>\n",
       "  </tbody>\n",
       "</table>\n",
       "<p>199 rows × 7 columns</p>\n",
       "</div>"
      ],
      "text/plain": [
       "       # Int Name  Efficiency  \\\n",
       "0      1     Int1    8.454545   \n",
       "1      2     Int2   29.568182   \n",
       "2      3     Int3   14.636364   \n",
       "3      4     Int4   31.500000   \n",
       "4      5     Int5   14.568182   \n",
       "..   ...      ...         ...   \n",
       "194  195   Meta12    7.405000   \n",
       "195  196   Meta13   40.050000   \n",
       "196  197   Meta15    8.395000   \n",
       "197  198   Meta16    8.535000   \n",
       "198  199   Meta17   38.800000   \n",
       "\n",
       "                                                  ATTB  \\\n",
       "0    ggaactccgccgggcccatctggtcgaagaagatgaaggggcccac...   \n",
       "1    ggacggcgcagaaggggagtagctcttcgccggaccgtcgacatac...   \n",
       "2    gtttgtaaaggagactgataatggcatgtacaactatactcgtcgg...   \n",
       "3    ttccaaagagcgcccaacgcgacctgaaatttgaataagactgctg...   \n",
       "4    gagcgccggatcagggagtggacggcctgggagcgctacacgctgt...   \n",
       "..                                                 ...   \n",
       "194  GACGGGAAACTGAAAATGTGTTCACAGGTTGCTCCGGGCTATGAAA...   \n",
       "195  TATTAGTTTTAAAAAATGTATATTTTTTGTTTTTGTATATTAGATA...   \n",
       "196  ATTAGCGGGTATACTCATGCCGCATTGTCCTCTTAGTTAAATGGAT...   \n",
       "197  GAGAAAGTCGCGTCCTGCGCCAGTACGTTCTTAGCCATCTGACCAA...   \n",
       "198  TATTAGTTTTAAAAAATGTATATTTTTTGTTTTTGTATATTAGATA...   \n",
       "\n",
       "                                                  ATTP  \\\n",
       "0    atggggtcacaataccaatcatgttcaagaatgtgaagggtatttt...   \n",
       "1    gctcatgtatgtgtctacgcgagattctcgcccgagaacttctgca...   \n",
       "2    atggataaaaaaatacagcgtttttcatgtacaactatactagttg...   \n",
       "3    caaaaattacaaagttttcaacccttgatttgaattagcggtcaaa...   \n",
       "4    ccctaatacgcaagtcgataactctcctgggagcgttgacaacttg...   \n",
       "..                                                 ...   \n",
       "194  TATGCAGTCTATTTTTTAGACTAAATGCATTGTAATACATTGATAT...   \n",
       "195  AAAACAGCCTCCTGCAAATGTGGCGATTTCTTTTTTTTCAGACATA...   \n",
       "196  TGAGGCATTTTCATTTATCAAGATATCCAGACCTACCATCGCCGCA...   \n",
       "197  TCATATGAACTCGCTACGGCGGGTTTTGTTTTATGGAGTGAATGAT...   \n",
       "198  AAAACAGCCTCCTGCAAATGTGGCGATTTCTTTTTTTTCAGACATA...   \n",
       "\n",
       "                                                   ORF  \\\n",
       "0    ATGACCAACCCCGCCTCCAGACCTAAGGCCTACAGCTACATCAGAA...   \n",
       "1    ATGCCTATCGCCCCTGAGTTCCTGTCTCTGGCTTATCCTGGACAGG...   \n",
       "2    ATGCGGAAGGTGGCCATCTATAGCCGGGTGTCTACAATTAACCAAG...   \n",
       "3    ATGATCACAACCAGGAAGGTGGCCATCTACGTGCGGGTGTCCACCA...   \n",
       "4    ATGCCAGGGATGACCACAGAAACCGGACCTGACCCAGCCGGACTTA...   \n",
       "..                                                 ...   \n",
       "194  ATGGGAAGAAGGCGAAGTCATGAGCGCCGGGATTTACCCCCTAACC...   \n",
       "195  ATGACCAAACCAATTGAAAAGAATATGCTCAGATCTCGAGCAATAA...   \n",
       "196  ATGCTCACCGTTAAGCAGATTGAAGCAGCAAAGCCGAAAGAAAAAC...   \n",
       "197  ATGTCACTATTCCGCAGAGGTGAAACCTGGTACTCCAGTTTCACAT...   \n",
       "198  ATGCAAAATAAAATTAAACAATTAAAAAATTATGCGGTTTACGATG...   \n",
       "\n",
       "                                                   seq  \n",
       "0    MTNPASRPKAYSYIRMSSAIQIKGDSFRRQAEASAKYAAEHDLDLI...  \n",
       "1    MPIAPEFLSLAYPGQEFPAYLYGRASRDPKRKGRSVQSQLDEGRAT...  \n",
       "2    MRKVAIYSRVSTINQAEEGYSIQGQIEALTKYCEAMEWKIYKNYSD...  \n",
       "3    MITTRKVAIYVRVSTTNQAEEGYSIQGQIDSLIKYCEAMGWIIYEE...  \n",
       "4    MPGMTTETGPDPAGLIDLFCRKSKAVKSRANGAGQRRKQEISIAAQ...  \n",
       "..                                                 ...  \n",
       "194  MGRRRSHERRDLPPNLYIRNNGYYCYRDPRTGKEFGLGRDRRIAIT...  \n",
       "195  MTKPIEKNMLRSRAIKLPEVTESMWEQVDEEHRNLVQEFLDAHSFR...  \n",
       "196  MLTVKQIEAAKPKEKPYRLLDGNGLYLYVPVSGKKVWQLRYKIDGK...  \n",
       "197  MSLFRRGETWYSSFTLPNGKRFKQSLGTKDKRQATELHDKLKAEAW...  \n",
       "198  MQNKIKQLKNYAVYDDIEGFLINKDIRSSSGNSNYMMPSSTRRVSN...  \n",
       "\n",
       "[199 rows x 7 columns]"
      ]
     },
     "execution_count": 6,
     "metadata": {},
     "output_type": "execute_result"
    }
   ],
   "source": [
    "data"
   ]
  },
  {
   "cell_type": "code",
   "execution_count": 7,
   "metadata": {},
   "outputs": [],
   "source": [
    "# unlabeled_data = pd.read_excel(f\"{data_dir}/integrase_unlabeled.xlsx\")\n",
    "# unlabeled_data.head()"
   ]
  },
  {
   "cell_type": "markdown",
   "metadata": {},
   "source": [
    "1. Create fasta files for attB, attP and ORFs with \"int name\" as seq id\n",
    "2. Create embeddings\n",
    "3. Linear regression - recombinant or not recombinant\n",
    "4. Intrinisic dimension: https://huggingface.co/blog/AmelieSchreiber/intrinsic-dimension-of-proteins\n",
    "5. Random Forest\n"
   ]
  },
  {
   "cell_type": "code",
   "execution_count": 8,
   "metadata": {},
   "outputs": [],
   "source": [
    "save_fasta = False\n",
    "if save_fasta:\n",
    "    # Seqs\n",
    "    with open(f'{fasta_dir}/int_w_eff_seqs.fasta', 'w') as f:\n",
    "        for int_name, seq in zip(data['Int Name'], data['seq']):\n",
    "            f.write(f'>{int_name}\\n{seq.upper()}\\n')\n",
    "    # # ORF \n",
    "    # with open(f'{fasta_dir}/int_w_eff_ORF.fasta', 'w') as f:\n",
    "    #     for int_name, ORF_str in zip(data['Int Name'], data['ORF']):\n",
    "    #         f.write(f'>{int_name}\\n{ORF_str.upper()}\\n')\n",
    "    # # attB\n",
    "    # with open(f'{fasta_dir}/int_w_eff_attB.fasta', 'w') as f:\n",
    "    #     for int_name, attB in zip(data['Int Name'], data['ATTB']):\n",
    "    #         f.write(f'>{int_name}\\n{attB.upper()}\\n')\n",
    "    # # attP\n",
    "    # with open(f'{fasta_dir}/int_w_eff_attP.fasta', 'w') as f:\n",
    "    #     for int_name, attP in zip(data['Int Name'], data['ATTP']):\n",
    "    #         f.write(f'>{int_name}\\n{attP.upper()}\\n')"
   ]
  },
  {
   "cell_type": "code",
   "execution_count": 9,
   "metadata": {},
   "outputs": [
    {
     "name": "stdout",
     "output_type": "stream",
     "text": [
      "ORF  attB  attP  seqs\n"
     ]
    }
   ],
   "source": [
    "!ls {esm2_3B_emb_dir}"
   ]
  },
  {
   "cell_type": "code",
   "execution_count": 10,
   "metadata": {},
   "outputs": [],
   "source": [
    "# A118_emb = torch.load(f\"{esm2_3B_emb_dir}/A118.pt\")"
   ]
  },
  {
   "cell_type": "code",
   "execution_count": 11,
   "metadata": {},
   "outputs": [],
   "source": [
    "# A118_emb[\"representations\"][36].size()"
   ]
  },
  {
   "cell_type": "code",
   "execution_count": 12,
   "metadata": {},
   "outputs": [],
   "source": [
    "# A118_emb[\"mean_representations\"][36].size()"
   ]
  },
  {
   "cell_type": "code",
   "execution_count": 13,
   "metadata": {},
   "outputs": [],
   "source": [
    "# add mean emb to df\n",
    "data['seq_mean_emb'] = [ torch.load(f\"{seq_emb_dir}/{int_name.strip()}.pt\")[\"mean_representations\"][36].numpy()\n",
    "                         for int_name in data[\"Int Name\"].tolist() ]\n",
    "\n",
    "# data['ORF_mean_emb'] = [ torch.load(f\"{ORF_emb_dir}/{int_name.strip()}.pt\")[\"mean_representations\"][36].numpy()\n",
    "#                          for int_name in data[\"Int Name\"].tolist() ]\n",
    "\n",
    "# data['attB_mean_emb'] = [ torch.load(f\"{attB_emb_dir}/{int_name.strip()}.pt\")[\"mean_representations\"][36].numpy()\n",
    "#                          for int_name in data[\"Int Name\"].tolist() ]\n",
    "\n",
    "# data['attP_mean_emb'] = [ torch.load(f\"{attP_emb_dir}/{int_name.strip()}.pt\")[\"mean_representations\"][36].numpy()\n",
    "#                          for int_name in data[\"Int Name\"].tolist() ]"
   ]
  },
  {
   "cell_type": "code",
   "execution_count": 14,
   "metadata": {},
   "outputs": [
    {
     "data": {
      "text/html": [
       "<div>\n",
       "<style scoped>\n",
       "    .dataframe tbody tr th:only-of-type {\n",
       "        vertical-align: middle;\n",
       "    }\n",
       "\n",
       "    .dataframe tbody tr th {\n",
       "        vertical-align: top;\n",
       "    }\n",
       "\n",
       "    .dataframe thead th {\n",
       "        text-align: right;\n",
       "    }\n",
       "</style>\n",
       "<table border=\"1\" class=\"dataframe\">\n",
       "  <thead>\n",
       "    <tr style=\"text-align: right;\">\n",
       "      <th></th>\n",
       "      <th>#</th>\n",
       "      <th>Int Name</th>\n",
       "      <th>Efficiency</th>\n",
       "      <th>ATTB</th>\n",
       "      <th>ATTP</th>\n",
       "      <th>ORF</th>\n",
       "      <th>seq</th>\n",
       "      <th>seq_mean_emb</th>\n",
       "    </tr>\n",
       "  </thead>\n",
       "  <tbody>\n",
       "    <tr>\n",
       "      <th>0</th>\n",
       "      <td>1</td>\n",
       "      <td>Int1</td>\n",
       "      <td>8.454545</td>\n",
       "      <td>ggaactccgccgggcccatctggtcgaagaagatgaaggggcccac...</td>\n",
       "      <td>atggggtcacaataccaatcatgttcaagaatgtgaagggtatttt...</td>\n",
       "      <td>ATGACCAACCCCGCCTCCAGACCTAAGGCCTACAGCTACATCAGAA...</td>\n",
       "      <td>MTNPASRPKAYSYIRMSSAIQIKGDSFRRQAEASAKYAAEHDLDLI...</td>\n",
       "      <td>[-0.012143803, -0.0052933423, -0.0072857062, 0...</td>\n",
       "    </tr>\n",
       "    <tr>\n",
       "      <th>1</th>\n",
       "      <td>2</td>\n",
       "      <td>Int2</td>\n",
       "      <td>29.568182</td>\n",
       "      <td>ggacggcgcagaaggggagtagctcttcgccggaccgtcgacatac...</td>\n",
       "      <td>gctcatgtatgtgtctacgcgagattctcgcccgagaacttctgca...</td>\n",
       "      <td>ATGCCTATCGCCCCTGAGTTCCTGTCTCTGGCTTATCCTGGACAGG...</td>\n",
       "      <td>MPIAPEFLSLAYPGQEFPAYLYGRASRDPKRKGRSVQSQLDEGRAT...</td>\n",
       "      <td>[0.018540306, -0.026513908, -0.039321538, 0.02...</td>\n",
       "    </tr>\n",
       "    <tr>\n",
       "      <th>2</th>\n",
       "      <td>3</td>\n",
       "      <td>Int3</td>\n",
       "      <td>14.636364</td>\n",
       "      <td>gtttgtaaaggagactgataatggcatgtacaactatactcgtcgg...</td>\n",
       "      <td>atggataaaaaaatacagcgtttttcatgtacaactatactagttg...</td>\n",
       "      <td>ATGCGGAAGGTGGCCATCTATAGCCGGGTGTCTACAATTAACCAAG...</td>\n",
       "      <td>MRKVAIYSRVSTINQAEEGYSIQGQIEALTKYCEAMEWKIYKNYSD...</td>\n",
       "      <td>[-0.018123832, -0.008340224, -0.046946924, 0.0...</td>\n",
       "    </tr>\n",
       "    <tr>\n",
       "      <th>3</th>\n",
       "      <td>4</td>\n",
       "      <td>Int4</td>\n",
       "      <td>31.500000</td>\n",
       "      <td>ttccaaagagcgcccaacgcgacctgaaatttgaataagactgctg...</td>\n",
       "      <td>caaaaattacaaagttttcaacccttgatttgaattagcggtcaaa...</td>\n",
       "      <td>ATGATCACAACCAGGAAGGTGGCCATCTACGTGCGGGTGTCCACCA...</td>\n",
       "      <td>MITTRKVAIYVRVSTTNQAEEGYSIQGQIDSLIKYCEAMGWIIYEE...</td>\n",
       "      <td>[-0.0050011743, -0.0090518985, -0.056376845, 0...</td>\n",
       "    </tr>\n",
       "    <tr>\n",
       "      <th>4</th>\n",
       "      <td>5</td>\n",
       "      <td>Int5</td>\n",
       "      <td>14.568182</td>\n",
       "      <td>gagcgccggatcagggagtggacggcctgggagcgctacacgctgt...</td>\n",
       "      <td>ccctaatacgcaagtcgataactctcctgggagcgttgacaacttg...</td>\n",
       "      <td>ATGCCAGGGATGACCACAGAAACCGGACCTGACCCAGCCGGACTTA...</td>\n",
       "      <td>MPGMTTETGPDPAGLIDLFCRKSKAVKSRANGAGQRRKQEISIAAQ...</td>\n",
       "      <td>[0.02901023, -0.012837757, -0.04548945, 0.0252...</td>\n",
       "    </tr>\n",
       "  </tbody>\n",
       "</table>\n",
       "</div>"
      ],
      "text/plain": [
       "   # Int Name  Efficiency                                               ATTB  \\\n",
       "0  1     Int1    8.454545  ggaactccgccgggcccatctggtcgaagaagatgaaggggcccac...   \n",
       "1  2     Int2   29.568182  ggacggcgcagaaggggagtagctcttcgccggaccgtcgacatac...   \n",
       "2  3     Int3   14.636364  gtttgtaaaggagactgataatggcatgtacaactatactcgtcgg...   \n",
       "3  4     Int4   31.500000  ttccaaagagcgcccaacgcgacctgaaatttgaataagactgctg...   \n",
       "4  5     Int5   14.568182  gagcgccggatcagggagtggacggcctgggagcgctacacgctgt...   \n",
       "\n",
       "                                                ATTP  \\\n",
       "0  atggggtcacaataccaatcatgttcaagaatgtgaagggtatttt...   \n",
       "1  gctcatgtatgtgtctacgcgagattctcgcccgagaacttctgca...   \n",
       "2  atggataaaaaaatacagcgtttttcatgtacaactatactagttg...   \n",
       "3  caaaaattacaaagttttcaacccttgatttgaattagcggtcaaa...   \n",
       "4  ccctaatacgcaagtcgataactctcctgggagcgttgacaacttg...   \n",
       "\n",
       "                                                 ORF  \\\n",
       "0  ATGACCAACCCCGCCTCCAGACCTAAGGCCTACAGCTACATCAGAA...   \n",
       "1  ATGCCTATCGCCCCTGAGTTCCTGTCTCTGGCTTATCCTGGACAGG...   \n",
       "2  ATGCGGAAGGTGGCCATCTATAGCCGGGTGTCTACAATTAACCAAG...   \n",
       "3  ATGATCACAACCAGGAAGGTGGCCATCTACGTGCGGGTGTCCACCA...   \n",
       "4  ATGCCAGGGATGACCACAGAAACCGGACCTGACCCAGCCGGACTTA...   \n",
       "\n",
       "                                                 seq  \\\n",
       "0  MTNPASRPKAYSYIRMSSAIQIKGDSFRRQAEASAKYAAEHDLDLI...   \n",
       "1  MPIAPEFLSLAYPGQEFPAYLYGRASRDPKRKGRSVQSQLDEGRAT...   \n",
       "2  MRKVAIYSRVSTINQAEEGYSIQGQIEALTKYCEAMEWKIYKNYSD...   \n",
       "3  MITTRKVAIYVRVSTTNQAEEGYSIQGQIDSLIKYCEAMGWIIYEE...   \n",
       "4  MPGMTTETGPDPAGLIDLFCRKSKAVKSRANGAGQRRKQEISIAAQ...   \n",
       "\n",
       "                                        seq_mean_emb  \n",
       "0  [-0.012143803, -0.0052933423, -0.0072857062, 0...  \n",
       "1  [0.018540306, -0.026513908, -0.039321538, 0.02...  \n",
       "2  [-0.018123832, -0.008340224, -0.046946924, 0.0...  \n",
       "3  [-0.0050011743, -0.0090518985, -0.056376845, 0...  \n",
       "4  [0.02901023, -0.012837757, -0.04548945, 0.0252...  "
      ]
     },
     "execution_count": 14,
     "metadata": {},
     "output_type": "execute_result"
    }
   ],
   "source": [
    "data.head()"
   ]
  },
  {
   "cell_type": "code",
   "execution_count": 15,
   "metadata": {},
   "outputs": [
    {
     "data": {
      "text/plain": [
       "<Axes: ylabel='Frequency'>"
      ]
     },
     "execution_count": 15,
     "metadata": {},
     "output_type": "execute_result"
    },
    {
     "data": {
      "image/png": "[encoded data removed]",
      "text/plain": [
       "<Figure size 432x288 with 1 Axes>"
      ]
     },
     "metadata": {
      "needs_background": "light"
     },
     "output_type": "display_data"
    }
   ],
   "source": [
    "data.Efficiency.plot.hist(bins=50)"
   ]
  },
  {
   "cell_type": "code",
   "execution_count": 16,
   "metadata": {},
   "outputs": [],
   "source": [
    "def plot_hist(vals, label):\n",
    "    plt.hist(vals, bins=50, label=label)\n",
    "    plt.legend()\n",
    "    plt.show()"
   ]
  },
  {
   "cell_type": "markdown",
   "metadata": {},
   "source": [
    "#### Log transformation"
   ]
  },
  {
   "cell_type": "code",
   "execution_count": 17,
   "metadata": {},
   "outputs": [
    {
     "data": {
      "image/png": "[encoded data removed]",
      "text/plain": [
       "<Figure size 432x288 with 1 Axes>"
      ]
     },
     "metadata": {
      "needs_background": "light"
     },
     "output_type": "display_data"
    }
   ],
   "source": [
    "log_eff = np.log(data.Efficiency)\n",
    "# data[\"log_eff\"] = log_eff\n",
    "plt.hist(log_eff, bins=50, label='Log-Transformed Data')\n",
    "plt.legend()\n",
    "plt.show()"
   ]
  },
  {
   "cell_type": "code",
   "execution_count": 18,
   "metadata": {},
   "outputs": [
    {
     "data": {
      "image/png": "[encoded data removed]",
      "text/plain": [
       "<Figure size 432x288 with 1 Axes>"
      ]
     },
     "metadata": {
      "needs_background": "light"
     },
     "output_type": "display_data"
    }
   ],
   "source": [
    "log1p_eff = np.log1p(data.Efficiency)\n",
    "# data[\"log1p_eff\"] = log1p_eff\n",
    "plt.hist(log_eff, bins=50, label='Log1p-Transformed Data')\n",
    "plt.legend()\n",
    "plt.show()"
   ]
  },
  {
   "cell_type": "markdown",
   "metadata": {},
   "source": [
    "#### Square Root Transformation"
   ]
  },
  {
   "cell_type": "code",
   "execution_count": 19,
   "metadata": {},
   "outputs": [
    {
     "data": {
      "image/png": "[encoded data removed]",
      "text/plain": [
       "<Figure size 432x288 with 1 Axes>"
      ]
     },
     "metadata": {
      "needs_background": "light"
     },
     "output_type": "display_data"
    },
    {
     "data": {
      "text/plain": [
       "(0.050362323579871054, 8.634234187233979)"
      ]
     },
     "execution_count": 19,
     "metadata": {},
     "output_type": "execute_result"
    }
   ],
   "source": [
    "sqrrt_target = data.Efficiency**(1/2)\n",
    "data[\"sqrt_eff\"] = sqrrt_target\n",
    "plot_hist(sqrrt_target, \"Sqrt-Transformed Data\")\n",
    "min(sqrrt_target), max(sqrrt_target)"
   ]
  },
  {
   "cell_type": "code",
   "execution_count": 20,
   "metadata": {},
   "outputs": [
    {
     "data": {
      "text/html": [
       "<div>\n",
       "<style scoped>\n",
       "    .dataframe tbody tr th:only-of-type {\n",
       "        vertical-align: middle;\n",
       "    }\n",
       "\n",
       "    .dataframe tbody tr th {\n",
       "        vertical-align: top;\n",
       "    }\n",
       "\n",
       "    .dataframe thead th {\n",
       "        text-align: right;\n",
       "    }\n",
       "</style>\n",
       "<table border=\"1\" class=\"dataframe\">\n",
       "  <thead>\n",
       "    <tr style=\"text-align: right;\">\n",
       "      <th></th>\n",
       "      <th>Efficiency</th>\n",
       "      <th>sqrt_eff</th>\n",
       "      <th>inv_sqrt_eff</th>\n",
       "    </tr>\n",
       "  </thead>\n",
       "  <tbody>\n",
       "    <tr>\n",
       "      <th>0</th>\n",
       "      <td>8.454545</td>\n",
       "      <td>2.907670</td>\n",
       "      <td>8.454545</td>\n",
       "    </tr>\n",
       "    <tr>\n",
       "      <th>1</th>\n",
       "      <td>29.568182</td>\n",
       "      <td>5.437663</td>\n",
       "      <td>29.568182</td>\n",
       "    </tr>\n",
       "    <tr>\n",
       "      <th>2</th>\n",
       "      <td>14.636364</td>\n",
       "      <td>3.825750</td>\n",
       "      <td>14.636364</td>\n",
       "    </tr>\n",
       "    <tr>\n",
       "      <th>3</th>\n",
       "      <td>31.500000</td>\n",
       "      <td>5.612486</td>\n",
       "      <td>31.500000</td>\n",
       "    </tr>\n",
       "    <tr>\n",
       "      <th>4</th>\n",
       "      <td>14.568182</td>\n",
       "      <td>3.816829</td>\n",
       "      <td>14.568182</td>\n",
       "    </tr>\n",
       "    <tr>\n",
       "      <th>...</th>\n",
       "      <td>...</td>\n",
       "      <td>...</td>\n",
       "      <td>...</td>\n",
       "    </tr>\n",
       "    <tr>\n",
       "      <th>194</th>\n",
       "      <td>7.405000</td>\n",
       "      <td>2.721213</td>\n",
       "      <td>7.405000</td>\n",
       "    </tr>\n",
       "    <tr>\n",
       "      <th>195</th>\n",
       "      <td>40.050000</td>\n",
       "      <td>6.328507</td>\n",
       "      <td>40.050000</td>\n",
       "    </tr>\n",
       "    <tr>\n",
       "      <th>196</th>\n",
       "      <td>8.395000</td>\n",
       "      <td>2.897413</td>\n",
       "      <td>8.395000</td>\n",
       "    </tr>\n",
       "    <tr>\n",
       "      <th>197</th>\n",
       "      <td>8.535000</td>\n",
       "      <td>2.921472</td>\n",
       "      <td>8.535000</td>\n",
       "    </tr>\n",
       "    <tr>\n",
       "      <th>198</th>\n",
       "      <td>38.800000</td>\n",
       "      <td>6.228965</td>\n",
       "      <td>38.800000</td>\n",
       "    </tr>\n",
       "  </tbody>\n",
       "</table>\n",
       "<p>199 rows × 3 columns</p>\n",
       "</div>"
      ],
      "text/plain": [
       "     Efficiency  sqrt_eff  inv_sqrt_eff\n",
       "0      8.454545  2.907670      8.454545\n",
       "1     29.568182  5.437663     29.568182\n",
       "2     14.636364  3.825750     14.636364\n",
       "3     31.500000  5.612486     31.500000\n",
       "4     14.568182  3.816829     14.568182\n",
       "..          ...       ...           ...\n",
       "194    7.405000  2.721213      7.405000\n",
       "195   40.050000  6.328507     40.050000\n",
       "196    8.395000  2.897413      8.395000\n",
       "197    8.535000  2.921472      8.535000\n",
       "198   38.800000  6.228965     38.800000\n",
       "\n",
       "[199 rows x 3 columns]"
      ]
     },
     "execution_count": 20,
     "metadata": {},
     "output_type": "execute_result"
    }
   ],
   "source": [
    "eff_df = pd.DataFrame(data.Efficiency)\n",
    "eff_df[\"sqrt_eff\"] = sqrrt_target\n",
    "eff_df[\"inv_sqrt_eff\"] = sqrrt_target**2\n",
    "eff_df"
   ]
  },
  {
   "cell_type": "markdown",
   "metadata": {},
   "source": [
    "#### Box-cox Transformation"
   ]
  },
  {
   "cell_type": "code",
   "execution_count": 21,
   "metadata": {},
   "outputs": [
    {
     "name": "stdout",
     "output_type": "stream",
     "text": [
      "0.322672854665954\n"
     ]
    }
   ],
   "source": [
    "from scipy.stats import boxcox\n",
    "bcx_target, lam = boxcox(data.Efficiency)\n",
    "print(lam)"
   ]
  },
  {
   "cell_type": "code",
   "execution_count": 22,
   "metadata": {},
   "outputs": [
    {
     "data": {
      "image/png": "[encoded data removed]",
      "text/plain": [
       "<Figure size 432x288 with 1 Axes>"
      ]
     },
     "metadata": {
      "needs_background": "light"
     },
     "output_type": "display_data"
    }
   ],
   "source": [
    "from scipy.special import boxcox, inv_boxcox\n",
    "\n",
    "bcx_target = boxcox(data.Efficiency, 0.32)\n",
    "# data[\"bcx_eff\"] = bcx_target\n",
    "\n",
    "plt.hist(bcx_target, bins=50, label='BoxCox-Transformed Data')\n",
    "plt.legend()\n",
    "plt.show()"
   ]
  },
  {
   "cell_type": "code",
   "execution_count": 23,
   "metadata": {},
   "outputs": [
    {
     "data": {
      "text/plain": [
       "0       8.454545\n",
       "1      29.568182\n",
       "2      14.636364\n",
       "3      31.500000\n",
       "4      14.568182\n",
       "         ...    \n",
       "194     7.405000\n",
       "195    40.050000\n",
       "196     8.395000\n",
       "197     8.535000\n",
       "198    38.800000\n",
       "Name: Efficiency, Length: 199, dtype: float64"
      ]
     },
     "execution_count": 23,
     "metadata": {},
     "output_type": "execute_result"
    }
   ],
   "source": [
    "inv_boxcox(bcx_target, 0.32)"
   ]
  },
  {
   "cell_type": "markdown",
   "metadata": {},
   "source": [
    "#### Yeo-Johnson Transformation"
   ]
  },
  {
   "cell_type": "code",
   "execution_count": 24,
   "metadata": {},
   "outputs": [
    {
     "data": {
      "image/png": "[encoded data removed]",
      "text/plain": [
       "<Figure size 432x288 with 1 Axes>"
      ]
     },
     "metadata": {
      "needs_background": "light"
     },
     "output_type": "display_data"
    }
   ],
   "source": [
    "from scipy.stats import yeojohnson\n",
    "\n",
    "yj_target, lam = yeojohnson(data.Efficiency)\n",
    "# data[\"yj_eff\"] = yj_target\n",
    "plt.hist(yj_target, bins=50, label='Yeo-Johnson-Transformed Data')\n",
    "plt.legend()\n",
    "plt.show()"
   ]
  },
  {
   "cell_type": "code",
   "execution_count": 25,
   "metadata": {},
   "outputs": [
    {
     "name": "stdout",
     "output_type": "stream",
     "text": [
      "[0.17400427]\n",
      "[-2.69139755] [2.36003515]\n"
     ]
    }
   ],
   "source": [
    "pt_yj_w_std = PowerTransformer(method='yeo-johnson', standardize=True)\n",
    "pt_yj_w_std.fit(data.Efficiency.values.reshape(-1, 1))\n",
    "print(pt_yj_w_std.lambdas_)\n",
    "\n",
    "yj_w_std_eff = pt_yj_w_std.transform(data.Efficiency.values.reshape(-1, 1))\n",
    "# data[\"bcx_eff\"] = yj_w_std_eff\n",
    "\n",
    "print(min(yj_w_std_eff), max(yj_w_std_eff))\n",
    "\n",
    "inv_yj_w_std_eff = pt_yj_w_std.inverse_transform(yj_w_std_eff)"
   ]
  },
  {
   "cell_type": "code",
   "execution_count": 26,
   "metadata": {},
   "outputs": [
    {
     "data": {
      "image/png": "[encoded data removed]",
      "text/plain": [
       "<Figure size 432x288 with 1 Axes>"
      ]
     },
     "metadata": {
      "needs_background": "light"
     },
     "output_type": "display_data"
    }
   ],
   "source": [
    "plt.hist(yj_w_std_eff, bins=50, label='Yeo-Johnson Standardized')\n",
    "plt.legend()\n",
    "plt.show()"
   ]
  },
  {
   "cell_type": "code",
   "execution_count": 27,
   "metadata": {},
   "outputs": [
    {
     "name": "stdout",
     "output_type": "stream",
     "text": [
      "[0.17400427]\n",
      "[0.00253371] [6.45023616]\n"
     ]
    }
   ],
   "source": [
    "pt_yj_wo_std = PowerTransformer(method='yeo-johnson', standardize=False)\n",
    "pt_yj_wo_std.fit(data.Efficiency.values.reshape(-1, 1))\n",
    "print(pt_yj_wo_std.lambdas_)\n",
    "\n",
    "yj_wo_std_eff = pt_yj_wo_std.transform(data.Efficiency.values.reshape(-1, 1))\n",
    "data[\"yj_eff\"] = yj_wo_std_eff\n",
    "# yj_wo_std_eff\n",
    "\n",
    "print(min(yj_wo_std_eff), max(yj_wo_std_eff))\n",
    "\n",
    "inv_yj_wo_std_eff = pt_yj_wo_std.inverse_transform(yj_wo_std_eff)\n",
    "# inv_yj_wo_std_eff"
   ]
  },
  {
   "cell_type": "code",
   "execution_count": 28,
   "metadata": {},
   "outputs": [
    {
     "data": {
      "image/png": "[encoded data removed]",
      "text/plain": [
       "<Figure size 432x288 with 1 Axes>"
      ]
     },
     "metadata": {
      "needs_background": "light"
     },
     "output_type": "display_data"
    }
   ],
   "source": [
    "# Use this!\n",
    "plt.hist(data[\"yj_eff\"], bins=50, label='Yeo-Johnson Not Standardized')\n",
    "plt.legend()\n",
    "plt.show()"
   ]
  },
  {
   "cell_type": "code",
   "execution_count": 29,
   "metadata": {},
   "outputs": [
    {
     "data": {
      "text/html": [
       "<div>\n",
       "<style scoped>\n",
       "    .dataframe tbody tr th:only-of-type {\n",
       "        vertical-align: middle;\n",
       "    }\n",
       "\n",
       "    .dataframe tbody tr th {\n",
       "        vertical-align: top;\n",
       "    }\n",
       "\n",
       "    .dataframe thead th {\n",
       "        text-align: right;\n",
       "    }\n",
       "</style>\n",
       "<table border=\"1\" class=\"dataframe\">\n",
       "  <thead>\n",
       "    <tr style=\"text-align: right;\">\n",
       "      <th></th>\n",
       "      <th>Efficiency</th>\n",
       "      <th>yj_eff</th>\n",
       "      <th>inv_yj_eff</th>\n",
       "    </tr>\n",
       "  </thead>\n",
       "  <tbody>\n",
       "    <tr>\n",
       "      <th>0</th>\n",
       "      <td>8.454545</td>\n",
       "      <td>2.748843</td>\n",
       "      <td>8.454545</td>\n",
       "    </tr>\n",
       "    <tr>\n",
       "      <th>1</th>\n",
       "      <td>29.568182</td>\n",
       "      <td>4.673390</td>\n",
       "      <td>29.568182</td>\n",
       "    </tr>\n",
       "    <tr>\n",
       "      <th>2</th>\n",
       "      <td>14.636364</td>\n",
       "      <td>3.526112</td>\n",
       "      <td>14.636364</td>\n",
       "    </tr>\n",
       "    <tr>\n",
       "      <th>3</th>\n",
       "      <td>31.500000</td>\n",
       "      <td>4.785097</td>\n",
       "      <td>31.500000</td>\n",
       "    </tr>\n",
       "    <tr>\n",
       "      <th>4</th>\n",
       "      <td>14.568182</td>\n",
       "      <td>3.519063</td>\n",
       "      <td>14.568182</td>\n",
       "    </tr>\n",
       "    <tr>\n",
       "      <th>...</th>\n",
       "      <td>...</td>\n",
       "      <td>...</td>\n",
       "      <td>...</td>\n",
       "    </tr>\n",
       "    <tr>\n",
       "      <th>194</th>\n",
       "      <td>7.405000</td>\n",
       "      <td>2.576661</td>\n",
       "      <td>7.405000</td>\n",
       "    </tr>\n",
       "    <tr>\n",
       "      <th>195</th>\n",
       "      <td>40.050000</td>\n",
       "      <td>5.221925</td>\n",
       "      <td>40.050000</td>\n",
       "    </tr>\n",
       "    <tr>\n",
       "      <th>196</th>\n",
       "      <td>8.395000</td>\n",
       "      <td>2.739508</td>\n",
       "      <td>8.395000</td>\n",
       "    </tr>\n",
       "    <tr>\n",
       "      <th>197</th>\n",
       "      <td>8.535000</td>\n",
       "      <td>2.761379</td>\n",
       "      <td>8.535000</td>\n",
       "    </tr>\n",
       "    <tr>\n",
       "      <th>198</th>\n",
       "      <td>38.800000</td>\n",
       "      <td>5.163061</td>\n",
       "      <td>38.800000</td>\n",
       "    </tr>\n",
       "  </tbody>\n",
       "</table>\n",
       "<p>199 rows × 3 columns</p>\n",
       "</div>"
      ],
      "text/plain": [
       "     Efficiency    yj_eff  inv_yj_eff\n",
       "0      8.454545  2.748843    8.454545\n",
       "1     29.568182  4.673390   29.568182\n",
       "2     14.636364  3.526112   14.636364\n",
       "3     31.500000  4.785097   31.500000\n",
       "4     14.568182  3.519063   14.568182\n",
       "..          ...       ...         ...\n",
       "194    7.405000  2.576661    7.405000\n",
       "195   40.050000  5.221925   40.050000\n",
       "196    8.395000  2.739508    8.395000\n",
       "197    8.535000  2.761379    8.535000\n",
       "198   38.800000  5.163061   38.800000\n",
       "\n",
       "[199 rows x 3 columns]"
      ]
     },
     "execution_count": 29,
     "metadata": {},
     "output_type": "execute_result"
    }
   ],
   "source": [
    "eff_df = pd.DataFrame(data.Efficiency)\n",
    "eff_df[\"yj_eff\"] = yj_wo_std_eff\n",
    "eff_df[\"inv_yj_eff\"] = inv_yj_wo_std_eff\n",
    "eff_df"
   ]
  },
  {
   "cell_type": "code",
   "execution_count": 30,
   "metadata": {},
   "outputs": [
    {
     "name": "stdout",
     "output_type": "stream",
     "text": [
      "[0.32267285]\n",
      "[-3.30291361] [2.49884764]\n"
     ]
    }
   ],
   "source": [
    "pt_bcx = PowerTransformer(method='box-cox', standardize=True)\n",
    "\n",
    "pt_bcx.fit(data.Efficiency.values.reshape(-1, 1))\n",
    "print(pt_bcx.lambdas_)\n",
    "\n",
    "bcx_tran_eff = pt_bcx.transform(data.Efficiency.values.reshape(-1, 1))\n",
    "# data[\"bcx_eff\"] = bcx_tran_eff\n",
    "# bcx_tran_eff\n",
    "\n",
    "print(min(bcx_tran_eff), max(bcx_tran_eff))\n",
    "\n",
    "inv_bcx_tran_eff = pt_bcx.inverse_transform(bcx_tran_eff)\n",
    "# inv_bcx_tran_eff"
   ]
  },
  {
   "cell_type": "code",
   "execution_count": 31,
   "metadata": {},
   "outputs": [
    {
     "data": {
      "image/png": "[encoded data removed]",
      "text/plain": [
       "<Figure size 432x288 with 1 Axes>"
      ]
     },
     "metadata": {
      "needs_background": "light"
     },
     "output_type": "display_data"
    }
   ],
   "source": [
    "plt.hist(bcx_tran_eff, bins=50, label='Box-Cox-Transformed Standardized ')\n",
    "plt.legend()\n",
    "plt.show()"
   ]
  },
  {
   "cell_type": "code",
   "execution_count": 32,
   "metadata": {},
   "outputs": [
    {
     "name": "stdout",
     "output_type": "stream",
     "text": [
      "[0.32267285]\n",
      "[-2.6486636] [9.35823387]\n"
     ]
    }
   ],
   "source": [
    "pt_bcx = PowerTransformer(method='box-cox', standardize=False)\n",
    "\n",
    "pt_bcx.fit(data.Efficiency.values.reshape(-1, 1))\n",
    "print(pt_bcx.lambdas_)\n",
    "\n",
    "bcx_tran_eff = pt_bcx.transform(data.Efficiency.values.reshape(-1, 1))\n",
    "data[\"bcx_eff\"] = bcx_tran_eff\n",
    "# bcx_tran_eff\n",
    "\n",
    "print(min(bcx_tran_eff), max(bcx_tran_eff))\n",
    "\n",
    "inv_bcx_tran_eff = pt_bcx.inverse_transform(bcx_tran_eff)\n",
    "# inv_bcx_tran_eff"
   ]
  },
  {
   "cell_type": "code",
   "execution_count": 33,
   "metadata": {},
   "outputs": [
    {
     "data": {
      "image/png": "[encoded data removed]",
      "text/plain": [
       "<Figure size 432x288 with 1 Axes>"
      ]
     },
     "metadata": {
      "needs_background": "light"
     },
     "output_type": "display_data"
    }
   ],
   "source": [
    "plt.hist(bcx_tran_eff, bins=50, label='Box-Cox-Transformed Not standardized')\n",
    "plt.legend()\n",
    "plt.show()"
   ]
  },
  {
   "cell_type": "code",
   "execution_count": 34,
   "metadata": {},
   "outputs": [
    {
     "data": {
      "text/plain": [
       "<Axes: ylabel='Frequency'>"
      ]
     },
     "execution_count": 34,
     "metadata": {},
     "output_type": "execute_result"
    },
    {
     "data": {
      "image/png": "[encoded data removed]",
      "text/plain": [
       "<Figure size 432x288 with 1 Axes>"
      ]
     },
     "metadata": {
      "needs_background": "light"
     },
     "output_type": "display_data"
    }
   ],
   "source": [
    "data[[\"Efficiency\", \"sqrt_eff\", \"bcx_eff\", \"yj_eff\"]].plot.hist(bins=50, alpha=0.5) # others: \"log_eff\", \"log1p_eff\","
   ]
  },
  {
   "cell_type": "code",
   "execution_count": 35,
   "metadata": {},
   "outputs": [
    {
     "data": {
      "text/plain": [
       "(0.0025337108574162485, 6.450236164033601)"
      ]
     },
     "execution_count": 35,
     "metadata": {},
     "output_type": "execute_result"
    }
   ],
   "source": [
    "min(data.yj_eff), max(data.yj_eff)"
   ]
  },
  {
   "cell_type": "code",
   "execution_count": 36,
   "metadata": {},
   "outputs": [],
   "source": [
    "pickle.dump(data, open('/home/rajan/integrase/data.pkl', 'wb'))"
   ]
  },
  {
   "cell_type": "markdown",
   "metadata": {},
   "source": [
    "### Train-test split"
   ]
  },
  {
   "cell_type": "code",
   "execution_count": 64,
   "metadata": {},
   "outputs": [
    {
     "data": {
      "text/html": [
       "<div>\n",
       "<style scoped>\n",
       "    .dataframe tbody tr th:only-of-type {\n",
       "        vertical-align: middle;\n",
       "    }\n",
       "\n",
       "    .dataframe tbody tr th {\n",
       "        vertical-align: top;\n",
       "    }\n",
       "\n",
       "    .dataframe thead th {\n",
       "        text-align: right;\n",
       "    }\n",
       "</style>\n",
       "<table border=\"1\" class=\"dataframe\">\n",
       "  <thead>\n",
       "    <tr style=\"text-align: right;\">\n",
       "      <th></th>\n",
       "      <th>seq_mean_emb</th>\n",
       "    </tr>\n",
       "  </thead>\n",
       "  <tbody>\n",
       "    <tr>\n",
       "      <th>0</th>\n",
       "      <td>[-0.012143803, -0.0052933423, -0.0072857062, 0...</td>\n",
       "    </tr>\n",
       "    <tr>\n",
       "      <th>1</th>\n",
       "      <td>[0.018540306, -0.026513908, -0.039321538, 0.02...</td>\n",
       "    </tr>\n",
       "    <tr>\n",
       "      <th>2</th>\n",
       "      <td>[-0.018123832, -0.008340224, -0.046946924, 0.0...</td>\n",
       "    </tr>\n",
       "    <tr>\n",
       "      <th>3</th>\n",
       "      <td>[-0.0050011743, -0.0090518985, -0.056376845, 0...</td>\n",
       "    </tr>\n",
       "    <tr>\n",
       "      <th>4</th>\n",
       "      <td>[0.02901023, -0.012837757, -0.04548945, 0.0252...</td>\n",
       "    </tr>\n",
       "    <tr>\n",
       "      <th>...</th>\n",
       "      <td>...</td>\n",
       "    </tr>\n",
       "    <tr>\n",
       "      <th>194</th>\n",
       "      <td>[-0.01841487, -0.04296414, 0.025662318, -0.005...</td>\n",
       "    </tr>\n",
       "    <tr>\n",
       "      <th>195</th>\n",
       "      <td>[-0.016178748, -0.019424891, 0.0032140228, -0....</td>\n",
       "    </tr>\n",
       "    <tr>\n",
       "      <th>196</th>\n",
       "      <td>[0.00045493752, -0.074196965, -0.010153705, -0...</td>\n",
       "    </tr>\n",
       "    <tr>\n",
       "      <th>197</th>\n",
       "      <td>[-0.0089121, -0.072285675, 0.024879273, -0.002...</td>\n",
       "    </tr>\n",
       "    <tr>\n",
       "      <th>198</th>\n",
       "      <td>[-0.042955432, 0.0054750503, -0.0057595675, 0....</td>\n",
       "    </tr>\n",
       "  </tbody>\n",
       "</table>\n",
       "<p>199 rows × 1 columns</p>\n",
       "</div>"
      ],
      "text/plain": [
       "                                          seq_mean_emb\n",
       "0    [-0.012143803, -0.0052933423, -0.0072857062, 0...\n",
       "1    [0.018540306, -0.026513908, -0.039321538, 0.02...\n",
       "2    [-0.018123832, -0.008340224, -0.046946924, 0.0...\n",
       "3    [-0.0050011743, -0.0090518985, -0.056376845, 0...\n",
       "4    [0.02901023, -0.012837757, -0.04548945, 0.0252...\n",
       "..                                                 ...\n",
       "194  [-0.01841487, -0.04296414, 0.025662318, -0.005...\n",
       "195  [-0.016178748, -0.019424891, 0.0032140228, -0....\n",
       "196  [0.00045493752, -0.074196965, -0.010153705, -0...\n",
       "197  [-0.0089121, -0.072285675, 0.024879273, -0.002...\n",
       "198  [-0.042955432, 0.0054750503, -0.0057595675, 0....\n",
       "\n",
       "[199 rows x 1 columns]"
      ]
     },
     "execution_count": 64,
     "metadata": {},
     "output_type": "execute_result"
    }
   ],
   "source": [
    "X = data[[\"seq_mean_emb\"]] #, \"attB_mean_emb\", \"attP_mean_emb\"]]\n",
    "X"
   ]
  },
  {
   "cell_type": "code",
   "execution_count": 65,
   "metadata": {},
   "outputs": [],
   "source": [
    "#yeo-johnson transformed efficiency\n",
    "y = data.yj_eff\n",
    "\n",
    "# # sqrt transformed efficiency\n",
    "# y = data.sqrt_eff"
   ]
  },
  {
   "cell_type": "code",
   "execution_count": 66,
   "metadata": {},
   "outputs": [],
   "source": [
    "X_train, X_test, y_train, y_test = train_test_split(X, y, test_size=0.2, random_state=42)"
   ]
  },
  {
   "cell_type": "code",
   "execution_count": 67,
   "metadata": {},
   "outputs": [
    {
     "data": {
      "text/html": [
       "<div>\n",
       "<style scoped>\n",
       "    .dataframe tbody tr th:only-of-type {\n",
       "        vertical-align: middle;\n",
       "    }\n",
       "\n",
       "    .dataframe tbody tr th {\n",
       "        vertical-align: top;\n",
       "    }\n",
       "\n",
       "    .dataframe thead th {\n",
       "        text-align: right;\n",
       "    }\n",
       "</style>\n",
       "<table border=\"1\" class=\"dataframe\">\n",
       "  <thead>\n",
       "    <tr style=\"text-align: right;\">\n",
       "      <th></th>\n",
       "      <th>seq_mean_emb</th>\n",
       "    </tr>\n",
       "  </thead>\n",
       "  <tbody>\n",
       "    <tr>\n",
       "      <th>183</th>\n",
       "      <td>[0.0007259564, -0.0017953799, -0.008699755, 0....</td>\n",
       "    </tr>\n",
       "    <tr>\n",
       "      <th>38</th>\n",
       "      <td>[0.018937012, -6.393679e-05, -0.03457202, 0.04...</td>\n",
       "    </tr>\n",
       "    <tr>\n",
       "      <th>24</th>\n",
       "      <td>[-0.04628304, 0.021061413, 0.010323375, 0.0269...</td>\n",
       "    </tr>\n",
       "    <tr>\n",
       "      <th>142</th>\n",
       "      <td>[-0.006698824, -0.0015498165, -0.015730834, 0....</td>\n",
       "    </tr>\n",
       "    <tr>\n",
       "      <th>141</th>\n",
       "      <td>[-0.00032132873, -0.040824797, -0.015657645, 0...</td>\n",
       "    </tr>\n",
       "  </tbody>\n",
       "</table>\n",
       "</div>"
      ],
      "text/plain": [
       "                                          seq_mean_emb\n",
       "183  [0.0007259564, -0.0017953799, -0.008699755, 0....\n",
       "38   [0.018937012, -6.393679e-05, -0.03457202, 0.04...\n",
       "24   [-0.04628304, 0.021061413, 0.010323375, 0.0269...\n",
       "142  [-0.006698824, -0.0015498165, -0.015730834, 0....\n",
       "141  [-0.00032132873, -0.040824797, -0.015657645, 0..."
      ]
     },
     "execution_count": 67,
     "metadata": {},
     "output_type": "execute_result"
    }
   ],
   "source": [
    "X_train.head()"
   ]
  },
  {
   "cell_type": "code",
   "execution_count": 123,
   "metadata": {},
   "outputs": [],
   "source": [
    "def display_metrics(y_true, y_pred, label):\n",
    "    print('**',label,'**')\n",
    "    print('Mean Absolute Error (MAE):', mean_absolute_error(y_true, y_pred))\n",
    "    print('Mean Squared Error (MSE):', mean_squared_error(y_true, y_pred))\n",
    "    print('Root Mean Squared Error (RMSE):', mean_squared_error(y_true, y_pred, squared=False))\n",
    "    print('Mean Absolute Percentage Error (MAPE):', mean_absolute_percentage_error(y_true, y_pred))\n",
    "    print('Explained Variance Score:', explained_variance_score(y_true, y_pred))\n",
    "    print('Max Error:', max_error(y_true, y_pred))\n",
    "    print('Mean Squared Log Error:', mean_squared_log_error(y_true, y_pred))\n",
    "    print('Median Absolute Error:', median_absolute_error(y_true, y_pred))\n",
    "    print('R^2:', r2_score(y_true, y_pred))\n",
    "    print('Mean Poisson Deviance:', mean_poisson_deviance(y_true, y_pred))\n",
    "    print('Mean Gamma Deviance:', mean_gamma_deviance(y_true, y_pred))"
   ]
  },
  {
   "cell_type": "markdown",
   "metadata": {},
   "source": [
    "### Linear Regression"
   ]
  },
  {
   "cell_type": "code",
   "execution_count": null,
   "metadata": {},
   "outputs": [],
   "source": []
  },
  {
   "cell_type": "code",
   "execution_count": 68,
   "metadata": {},
   "outputs": [],
   "source": [
    "# Concatenating the arrays (ORF, attB, attP) in X_train and stacking them vertically\n",
    "# X_train_flat = np.vstack([np.concatenate(arr) for arr in X_train.to_numpy()])\n",
    "\n",
    "X_train_vals = np.vstack(X_train['seq_mean_emb'])\n",
    "\n",
    "# Converting y_train to a NumPy array\n",
    "y_train_vals = y_train.to_numpy()"
   ]
  },
  {
   "cell_type": "code",
   "execution_count": 69,
   "metadata": {},
   "outputs": [],
   "source": [
    "# Concatenating the arrays in X_test and stacking them vertically\n",
    "# X_test_flat = np.vstack([np.concatenate(arr) for arr in X_test.to_numpy()])\n",
    "\n",
    "X_test_vals = np.vstack(X_test['seq_mean_emb'])\n",
    "\n",
    "# Converting y_train to a NumPy array\n",
    "y_test_vals = y_test.to_numpy()"
   ]
  },
  {
   "cell_type": "code",
   "execution_count": 70,
   "metadata": {},
   "outputs": [],
   "source": [
    "model = RidgeCV(alphas=[1e-3, 1e-2, 1e-1, 1], cv=5)\n"
   ]
  },
  {
   "cell_type": "code",
   "execution_count": 71,
   "metadata": {},
   "outputs": [
    {
     "data": {
      "text/html": [
       "<style>#sk-container-id-3 {color: black;}#sk-container-id-3 pre{padding: 0;}#sk-container-id-3 div.sk-toggleable {background-color: white;}#sk-container-id-3 label.sk-toggleable__label {cursor: pointer;display: block;width: 100%;margin-bottom: 0;padding: 0.3em;box-sizing: border-box;text-align: center;}#sk-container-id-3 label.sk-toggleable__label-arrow:before {content: \"▸\";float: left;margin-right: 0.25em;color: #696969;}#sk-container-id-3 label.sk-toggleable__label-arrow:hover:before {color: black;}#sk-container-id-3 div.sk-estimator:hover label.sk-toggleable__label-arrow:before {color: black;}#sk-container-id-3 div.sk-toggleable__content {max-height: 0;max-width: 0;overflow: hidden;text-align: left;background-color: #f0f8ff;}#sk-container-id-3 div.sk-toggleable__content pre {margin: 0.2em;color: black;border-radius: 0.25em;background-color: #f0f8ff;}#sk-container-id-3 input.sk-toggleable__control:checked~div.sk-toggleable__content {max-height: 200px;max-width: 100%;overflow: auto;}#sk-container-id-3 input.sk-toggleable__control:checked~label.sk-toggleable__label-arrow:before {content: \"▾\";}#sk-container-id-3 div.sk-estimator input.sk-toggleable__control:checked~label.sk-toggleable__label {background-color: #d4ebff;}#sk-container-id-3 div.sk-label input.sk-toggleable__control:checked~label.sk-toggleable__label {background-color: #d4ebff;}#sk-container-id-3 input.sk-hidden--visually {border: 0;clip: rect(1px 1px 1px 1px);clip: rect(1px, 1px, 1px, 1px);height: 1px;margin: -1px;overflow: hidden;padding: 0;position: absolute;width: 1px;}#sk-container-id-3 div.sk-estimator {font-family: monospace;background-color: #f0f8ff;border: 1px dotted black;border-radius: 0.25em;box-sizing: border-box;margin-bottom: 0.5em;}#sk-container-id-3 div.sk-estimator:hover {background-color: #d4ebff;}#sk-container-id-3 div.sk-parallel-item::after {content: \"\";width: 100%;border-bottom: 1px solid gray;flex-grow: 1;}#sk-container-id-3 div.sk-label:hover label.sk-toggleable__label {background-color: #d4ebff;}#sk-container-id-3 div.sk-serial::before {content: \"\";position: absolute;border-left: 1px solid gray;box-sizing: border-box;top: 0;bottom: 0;left: 50%;z-index: 0;}#sk-container-id-3 div.sk-serial {display: flex;flex-direction: column;align-items: center;background-color: white;padding-right: 0.2em;padding-left: 0.2em;position: relative;}#sk-container-id-3 div.sk-item {position: relative;z-index: 1;}#sk-container-id-3 div.sk-parallel {display: flex;align-items: stretch;justify-content: center;background-color: white;position: relative;}#sk-container-id-3 div.sk-item::before, #sk-container-id-3 div.sk-parallel-item::before {content: \"\";position: absolute;border-left: 1px solid gray;box-sizing: border-box;top: 0;bottom: 0;left: 50%;z-index: -1;}#sk-container-id-3 div.sk-parallel-item {display: flex;flex-direction: column;z-index: 1;position: relative;background-color: white;}#sk-container-id-3 div.sk-parallel-item:first-child::after {align-self: flex-end;width: 50%;}#sk-container-id-3 div.sk-parallel-item:last-child::after {align-self: flex-start;width: 50%;}#sk-container-id-3 div.sk-parallel-item:only-child::after {width: 0;}#sk-container-id-3 div.sk-dashed-wrapped {border: 1px dashed gray;margin: 0 0.4em 0.5em 0.4em;box-sizing: border-box;padding-bottom: 0.4em;background-color: white;}#sk-container-id-3 div.sk-label label {font-family: monospace;font-weight: bold;display: inline-block;line-height: 1.2em;}#sk-container-id-3 div.sk-label-container {text-align: center;}#sk-container-id-3 div.sk-container {/* jupyter's `normalize.less` sets `[hidden] { display: none; }` but bootstrap.min.css set `[hidden] { display: none !important; }` so we also need the `!important` here to be able to override the default hidden behavior on the sphinx rendered scikit-learn.org. See: https://github.com/scikit-learn/scikit-learn/issues/21755 */display: inline-block !important;position: relative;}#sk-container-id-3 div.sk-text-repr-fallback {display: none;}</style><div id=\"sk-container-id-3\" class=\"sk-top-container\"><div class=\"sk-text-repr-fallback\"><pre>RidgeCV(alphas=[0.001, 0.01, 0.1, 1], cv=5)</pre><b>In a Jupyter environment, please rerun this cell to show the HTML representation or trust the notebook. <br />On GitHub, the HTML representation is unable to render, please try loading this page with nbviewer.org.</b></div><div class=\"sk-container\" hidden><div class=\"sk-item\"><div class=\"sk-estimator sk-toggleable\"><input class=\"sk-toggleable__control sk-hidden--visually\" id=\"sk-estimator-id-3\" type=\"checkbox\" checked><label for=\"sk-estimator-id-3\" class=\"sk-toggleable__label sk-toggleable__label-arrow\">RidgeCV</label><div class=\"sk-toggleable__content\"><pre>RidgeCV(alphas=[0.001, 0.01, 0.1, 1], cv=5)</pre></div></div></div></div></div>"
      ],
      "text/plain": [
       "RidgeCV(alphas=[0.001, 0.01, 0.1, 1], cv=5)"
      ]
     },
     "execution_count": 71,
     "metadata": {},
     "output_type": "execute_result"
    }
   ],
   "source": [
    "model.fit(X_train_vals, y_train_vals)"
   ]
  },
  {
   "cell_type": "code",
   "execution_count": 72,
   "metadata": {},
   "outputs": [
    {
     "data": {
      "text/plain": [
       "0.36934440918897027"
      ]
     },
     "execution_count": 72,
     "metadata": {},
     "output_type": "execute_result"
    }
   ],
   "source": [
    "#r2\n",
    "model.score(X_train_vals, y_train_vals)"
   ]
  },
  {
   "cell_type": "code",
   "execution_count": 73,
   "metadata": {},
   "outputs": [
    {
     "data": {
      "text/plain": [
       "-0.21344572155268215"
      ]
     },
     "execution_count": 73,
     "metadata": {},
     "output_type": "execute_result"
    }
   ],
   "source": [
    "#r2\n",
    "model.score(X_test_vals, y_test_vals)"
   ]
  },
  {
   "cell_type": "code",
   "execution_count": 74,
   "metadata": {},
   "outputs": [],
   "source": [
    "y_hat_train = model.predict(X_train_vals)\n",
    "y_hat_test = model.predict(X_test_vals)"
   ]
  },
  {
   "cell_type": "code",
   "execution_count": 75,
   "metadata": {},
   "outputs": [],
   "source": [
    "# # inverse sqrt transformation\n",
    "# inv_y_train = y_train_vals**2\n",
    "# inv_y_test = y_test_vals**2\n",
    "\n",
    "# inv_y_hat_train = y_hat_train**2\n",
    "# inv_y_hat_test = y_hat_test**2"
   ]
  },
  {
   "cell_type": "code",
   "execution_count": 76,
   "metadata": {},
   "outputs": [],
   "source": [
    "# #inverse yeo-johnshon transformation\n",
    "inv_y_train = pt_yj_wo_std.inverse_transform(y_train_vals.reshape(-1, 1))\n",
    "inv_y_test = pt_yj_wo_std.inverse_transform(y_test_vals.reshape(-1, 1))\n",
    "\n",
    "inv_y_hat_train = pt_yj_wo_std.inverse_transform(y_hat_train.reshape(-1, 1))\n",
    "inv_y_hat_test = pt_yj_wo_std.inverse_transform(y_hat_test.reshape(-1, 1))"
   ]
  },
  {
   "cell_type": "code",
   "execution_count": 77,
   "metadata": {},
   "outputs": [
    {
     "name": "stdout",
     "output_type": "stream",
     "text": [
      "Train r2 score: 0.2510100798688547\n",
      "Test r2 score: -0.1784139351816909\n"
     ]
    }
   ],
   "source": [
    "print('Train r2 score:', r2_score(inv_y_train, inv_y_hat_train))\n",
    "print('Test r2 score:', r2_score(inv_y_test, inv_y_hat_test))"
   ]
  },
  {
   "cell_type": "code",
   "execution_count": 78,
   "metadata": {},
   "outputs": [
    {
     "name": "stdout",
     "output_type": "stream",
     "text": [
      "MAE train: 8.68987220423345\n",
      "MAE test: 10.154962888977739\n"
     ]
    }
   ],
   "source": [
    "print('MAE train:', mean_absolute_error(inv_y_train, inv_y_hat_train))\n",
    "print('MAE test:', mean_absolute_error(inv_y_test, inv_y_hat_test))"
   ]
  },
  {
   "cell_type": "code",
   "execution_count": 79,
   "metadata": {},
   "outputs": [
    {
     "name": "stdout",
     "output_type": "stream",
     "text": [
      "MSE train: 163.37129277494935\n",
      "MSE test: 266.5653982385223\n"
     ]
    }
   ],
   "source": [
    "print('MSE train:', mean_squared_error(inv_y_train, inv_y_hat_train))\n",
    "print('MSE test:', mean_squared_error(inv_y_test, inv_y_hat_test))"
   ]
  },
  {
   "cell_type": "code",
   "execution_count": null,
   "metadata": {},
   "outputs": [],
   "source": []
  },
  {
   "cell_type": "code",
   "execution_count": 80,
   "metadata": {},
   "outputs": [
    {
     "data": {
      "text/plain": [
       "0.6752190018280332"
      ]
     },
     "execution_count": 80,
     "metadata": {},
     "output_type": "execute_result"
    }
   ],
   "source": [
    "train_corr = stats.spearmanr(inv_y_train, inv_y_hat_train)[0]\n",
    "train_corr\n"
   ]
  },
  {
   "cell_type": "code",
   "execution_count": 81,
   "metadata": {},
   "outputs": [
    {
     "data": {
      "text/plain": [
       "0.14108818011257038"
      ]
     },
     "execution_count": 81,
     "metadata": {},
     "output_type": "execute_result"
    }
   ],
   "source": [
    "test_corr = stats.spearmanr(inv_y_hat_test, inv_y_test)[0]\n",
    "test_corr"
   ]
  },
  {
   "cell_type": "code",
   "execution_count": 82,
   "metadata": {},
   "outputs": [
    {
     "data": {
      "text/plain": [
       "(array([0.00253636]), array([68.]))"
      ]
     },
     "execution_count": 82,
     "metadata": {},
     "output_type": "execute_result"
    }
   ],
   "source": [
    "min(inv_y_train), max(inv_y_train)"
   ]
  },
  {
   "cell_type": "code",
   "execution_count": 83,
   "metadata": {},
   "outputs": [
    {
     "data": {
      "text/plain": [
       "(array([3.47]), array([74.55]))"
      ]
     },
     "execution_count": 83,
     "metadata": {},
     "output_type": "execute_result"
    }
   ],
   "source": [
    "min(inv_y_test), max(inv_y_test)"
   ]
  },
  {
   "cell_type": "code",
   "execution_count": 125,
   "metadata": {},
   "outputs": [
    {
     "name": "stdout",
     "output_type": "stream",
     "text": [
      "** RidgeCV-train **\n",
      "Mean Absolute Error (MAE): 8.68987220423345\n",
      "Mean Squared Error (MSE): 163.37129277494935\n",
      "Root Mean Squared Error (RMSE): 12.78167801092444\n",
      "Mean Absolute Percentage Error (MAPE): 12.400631541649073\n",
      "Explained Variance Score: 0.31185030033439\n",
      "Max Error: 47.934507751464835\n",
      "Mean Squared Log Error: 0.47078953622750946\n",
      "Median Absolute Error: 5.729262525385074\n",
      "R^2: 0.2510100798688547\n",
      "Mean Poisson Deviance: 7.556577001486898\n",
      "Mean Gamma Deviance: 0.610982412165799\n",
      "** RidgeCV-test **\n",
      "Mean Absolute Error (MAE): 10.154962888977739\n",
      "Mean Squared Error (MSE): 266.5653982385223\n",
      "Root Mean Squared Error (RMSE): 16.32683062442072\n",
      "Mean Absolute Percentage Error (MAPE): 0.580961511771033\n",
      "Explained Variance Score: -0.022833635616564818\n",
      "Max Error: 64.18130378723136\n",
      "Mean Squared Log Error: 0.5105187146975614\n",
      "Median Absolute Error: 5.102809689261699\n",
      "R^2: -0.1784139351816909\n",
      "Mean Poisson Deviance: 13.274678185985376\n",
      "Mean Gamma Deviance: 0.824924904722496\n"
     ]
    }
   ],
   "source": [
    "display_metrics(inv_y_train, inv_y_hat_train, 'RidgeCV-train')\n",
    "display_metrics(inv_y_test, inv_y_hat_test, 'RidgeCV-test')"
   ]
  },
  {
   "cell_type": "code",
   "execution_count": null,
   "metadata": {},
   "outputs": [],
   "source": []
  },
  {
   "cell_type": "code",
   "execution_count": 84,
   "metadata": {},
   "outputs": [
    {
     "data": {
      "image/png": "[encoded data removed]",
      "text/plain": [
       "<Figure size 432x288 with 1 Axes>"
      ]
     },
     "metadata": {
      "needs_background": "light"
     },
     "output_type": "display_data"
    },
    {
     "data": {
      "image/png": "[encoded data removed]",
      "text/plain": [
       "<Figure size 432x288 with 1 Axes>"
      ]
     },
     "metadata": {
      "needs_background": "light"
     },
     "output_type": "display_data"
    }
   ],
   "source": [
    "plot_hist(inv_y_train, 'inv_y_train')\n",
    "plot_hist(inv_y_hat_train, 'inv_y_hat_train')"
   ]
  },
  {
   "cell_type": "code",
   "execution_count": 85,
   "metadata": {},
   "outputs": [
    {
     "data": {
      "image/png": "[encoded data removed]",
      "text/plain": [
       "<Figure size 432x288 with 1 Axes>"
      ]
     },
     "metadata": {
      "needs_background": "light"
     },
     "output_type": "display_data"
    },
    {
     "data": {
      "image/png": "[encoded data removed]",
      "text/plain": [
       "<Figure size 432x288 with 1 Axes>"
      ]
     },
     "metadata": {
      "needs_background": "light"
     },
     "output_type": "display_data"
    }
   ],
   "source": [
    "plot_hist(inv_y_test, 'inv_y_test')\n",
    "plot_hist(inv_y_hat_test, 'inv_y_hat_test')"
   ]
  },
  {
   "cell_type": "code",
   "execution_count": 86,
   "metadata": {},
   "outputs": [],
   "source": [
    "def plot_true_v_pred(true, pred, title):\n",
    "    plt.figure(figsize=(10,10))\n",
    "    plt.scatter(true, pred, c='crimson')\n",
    "    p1 = max(max(pred), max(true))\n",
    "    p2 = min(min(pred), min(true))\n",
    "    plt.plot([p1, p2], [p1, p2], 'b-')\n",
    "    plt.xlabel('True efficiency', fontsize=15)\n",
    "    plt.ylabel('Predicted efficiency', fontsize=15)\n",
    "    plt.axis('equal')\n",
    "    plt.title(title, fontsize=15)\n",
    "    plt.show()"
   ]
  },
  {
   "cell_type": "code",
   "execution_count": 87,
   "metadata": {},
   "outputs": [
    {
     "data": {
      "image/png": "[encoded data removed]",
      "text/plain": [
       "<Figure size 720x720 with 1 Axes>"
      ]
     },
     "metadata": {
      "needs_background": "light"
     },
     "output_type": "display_data"
    },
    {
     "data": {
      "image/png": "[encoded data removed]",
      "text/plain": [
       "<Figure size 720x720 with 1 Axes>"
      ]
     },
     "metadata": {
      "needs_background": "light"
     },
     "output_type": "display_data"
    }
   ],
   "source": [
    "plot_true_v_pred(inv_y_train, inv_y_hat_train, \"RidgeCV-Train\")\n",
    "plot_true_v_pred(inv_y_test, inv_y_hat_test, \"RidgeCV-Test\")"
   ]
  },
  {
   "cell_type": "code",
   "execution_count": 88,
   "metadata": {},
   "outputs": [
    {
     "data": {
      "image/png": "[encoded data removed]",
      "text/plain": [
       "<Figure size 432x288 with 1 Axes>"
      ]
     },
     "metadata": {
      "needs_background": "light"
     },
     "output_type": "display_data"
    }
   ],
   "source": [
    "x = []\n",
    "plt.plot(inv_y_hat_train, linestyle = 'dotted')\n",
    "for i in range(0,len(inv_y_train)):\n",
    "    x.append(i)\n",
    "plt.scatter(x, inv_y_train)\n",
    "plt.show()"
   ]
  },
  {
   "cell_type": "code",
   "execution_count": 89,
   "metadata": {},
   "outputs": [
    {
     "data": {
      "image/png": "[encoded data removed]",
      "text/plain": [
       "<Figure size 432x288 with 1 Axes>"
      ]
     },
     "metadata": {
      "needs_background": "light"
     },
     "output_type": "display_data"
    }
   ],
   "source": [
    "x = []\n",
    "plt.plot(inv_y_hat_test, linestyle = 'dotted')\n",
    "for i in range(0,len(inv_y_test)):\n",
    "    x.append(i)\n",
    "plt.scatter(x, inv_y_test)\n",
    "plt.show()"
   ]
  },
  {
   "cell_type": "code",
   "execution_count": 90,
   "metadata": {},
   "outputs": [
    {
     "data": {
      "text/plain": [
       "{'alpha_per_target': False,\n",
       " 'alphas': [0.001, 0.01, 0.1, 1],\n",
       " 'cv': 5,\n",
       " 'fit_intercept': True,\n",
       " 'gcv_mode': None,\n",
       " 'scoring': None,\n",
       " 'store_cv_values': False}"
      ]
     },
     "execution_count": 90,
     "metadata": {},
     "output_type": "execute_result"
    }
   ],
   "source": [
    "model.get_params()"
   ]
  },
  {
   "cell_type": "code",
   "execution_count": 91,
   "metadata": {},
   "outputs": [],
   "source": [
    "# def plotGraph(y_actual, y_pred, regressorName):\n",
    "#     plt.figure(figsize=(10,10))\n",
    "#     p1 = max(max(y_pred), max(y_actual))\n",
    "#     p2 = min(min(y_pred), min(y_actual))\n",
    "#     plt.plot([p1, p2], [p1, p2], 'g-')\n",
    "#     plt.scatter(range(len(y_actual)), y_actual, color='blue')\n",
    "#     plt.scatter(range(len(y_pred)), y_pred, color='red')\n",
    "#     plt.xlabel('True efficiency', fontsize=15)\n",
    "#     plt.ylabel('Predicted efficiency', fontsize=15)\n",
    "#     plt.title(regressorName)\n",
    "#     plt.show()\n",
    "#     return\n"
   ]
  },
  {
   "cell_type": "code",
   "execution_count": 92,
   "metadata": {},
   "outputs": [
    {
     "data": {
      "text/plain": [
       "159"
      ]
     },
     "execution_count": 92,
     "metadata": {},
     "output_type": "execute_result"
    }
   ],
   "source": [
    "len(y_train)"
   ]
  },
  {
   "cell_type": "code",
   "execution_count": 93,
   "metadata": {},
   "outputs": [
    {
     "data": {
      "text/plain": [
       "159"
      ]
     },
     "execution_count": 93,
     "metadata": {},
     "output_type": "execute_result"
    }
   ],
   "source": [
    "len(y_train)"
   ]
  },
  {
   "cell_type": "code",
   "execution_count": 94,
   "metadata": {},
   "outputs": [
    {
     "data": {
      "text/html": [
       "<div>\n",
       "<style scoped>\n",
       "    .dataframe tbody tr th:only-of-type {\n",
       "        vertical-align: middle;\n",
       "    }\n",
       "\n",
       "    .dataframe tbody tr th {\n",
       "        vertical-align: top;\n",
       "    }\n",
       "\n",
       "    .dataframe thead th {\n",
       "        text-align: right;\n",
       "    }\n",
       "</style>\n",
       "<table border=\"1\" class=\"dataframe\">\n",
       "  <thead>\n",
       "    <tr style=\"text-align: right;\">\n",
       "      <th></th>\n",
       "      <th>y_train</th>\n",
       "      <th>y_hat_train</th>\n",
       "    </tr>\n",
       "  </thead>\n",
       "  <tbody>\n",
       "    <tr>\n",
       "      <th>165</th>\n",
       "      <td>6.259273</td>\n",
       "      <td>4.303541</td>\n",
       "    </tr>\n",
       "    <tr>\n",
       "      <th>185</th>\n",
       "      <td>6.251692</td>\n",
       "      <td>4.075518</td>\n",
       "    </tr>\n",
       "    <tr>\n",
       "      <th>193</th>\n",
       "      <td>6.247133</td>\n",
       "      <td>4.081279</td>\n",
       "    </tr>\n",
       "    <tr>\n",
       "      <th>32</th>\n",
       "      <td>6.225747</td>\n",
       "      <td>3.928981</td>\n",
       "    </tr>\n",
       "    <tr>\n",
       "      <th>117</th>\n",
       "      <td>5.940037</td>\n",
       "      <td>4.033079</td>\n",
       "    </tr>\n",
       "    <tr>\n",
       "      <th>...</th>\n",
       "      <td>...</td>\n",
       "      <td>...</td>\n",
       "    </tr>\n",
       "    <tr>\n",
       "      <th>43</th>\n",
       "      <td>0.833801</td>\n",
       "      <td>2.562160</td>\n",
       "    </tr>\n",
       "    <tr>\n",
       "      <th>131</th>\n",
       "      <td>0.565539</td>\n",
       "      <td>2.864212</td>\n",
       "    </tr>\n",
       "    <tr>\n",
       "      <th>150</th>\n",
       "      <td>0.405723</td>\n",
       "      <td>3.184186</td>\n",
       "    </tr>\n",
       "    <tr>\n",
       "      <th>191</th>\n",
       "      <td>0.260368</td>\n",
       "      <td>2.598893</td>\n",
       "    </tr>\n",
       "    <tr>\n",
       "      <th>104</th>\n",
       "      <td>0.002534</td>\n",
       "      <td>1.997131</td>\n",
       "    </tr>\n",
       "  </tbody>\n",
       "</table>\n",
       "<p>159 rows × 2 columns</p>\n",
       "</div>"
      ],
      "text/plain": [
       "      y_train  y_hat_train\n",
       "165  6.259273     4.303541\n",
       "185  6.251692     4.075518\n",
       "193  6.247133     4.081279\n",
       "32   6.225747     3.928981\n",
       "117  5.940037     4.033079\n",
       "..        ...          ...\n",
       "43   0.833801     2.562160\n",
       "131  0.565539     2.864212\n",
       "150  0.405723     3.184186\n",
       "191  0.260368     2.598893\n",
       "104  0.002534     1.997131\n",
       "\n",
       "[159 rows x 2 columns]"
      ]
     },
     "execution_count": 94,
     "metadata": {},
     "output_type": "execute_result"
    }
   ],
   "source": [
    "results_train = pd.DataFrame({'y_train': y_train, 'y_hat_train': y_hat_train})\n",
    "results_train.sort_values(by=[\"y_train\"], ascending=False)"
   ]
  },
  {
   "cell_type": "code",
   "execution_count": 95,
   "metadata": {},
   "outputs": [],
   "source": [
    "# plotGraph(y_train, y_hat_train, \"Train - RidgeCV\")"
   ]
  },
  {
   "cell_type": "code",
   "execution_count": 96,
   "metadata": {},
   "outputs": [],
   "source": [
    "# plotGraph(y_test, y_hat_test, \"Test - RidgeCV\")"
   ]
  },
  {
   "cell_type": "code",
   "execution_count": 97,
   "metadata": {},
   "outputs": [
    {
     "data": {
      "text/html": [
       "<div>\n",
       "<style scoped>\n",
       "    .dataframe tbody tr th:only-of-type {\n",
       "        vertical-align: middle;\n",
       "    }\n",
       "\n",
       "    .dataframe tbody tr th {\n",
       "        vertical-align: top;\n",
       "    }\n",
       "\n",
       "    .dataframe thead th {\n",
       "        text-align: right;\n",
       "    }\n",
       "</style>\n",
       "<table border=\"1\" class=\"dataframe\">\n",
       "  <thead>\n",
       "    <tr style=\"text-align: right;\">\n",
       "      <th></th>\n",
       "      <th>inv_y_test</th>\n",
       "      <th>inv_y_hat_test</th>\n",
       "    </tr>\n",
       "  </thead>\n",
       "  <tbody>\n",
       "    <tr>\n",
       "      <th>0</th>\n",
       "      <td>12.363636</td>\n",
       "      <td>7.677033</td>\n",
       "    </tr>\n",
       "    <tr>\n",
       "      <th>1</th>\n",
       "      <td>12.977273</td>\n",
       "      <td>13.244042</td>\n",
       "    </tr>\n",
       "    <tr>\n",
       "      <th>2</th>\n",
       "      <td>12.659091</td>\n",
       "      <td>11.121104</td>\n",
       "    </tr>\n",
       "    <tr>\n",
       "      <th>3</th>\n",
       "      <td>74.550000</td>\n",
       "      <td>10.368696</td>\n",
       "    </tr>\n",
       "    <tr>\n",
       "      <th>4</th>\n",
       "      <td>33.440909</td>\n",
       "      <td>6.786418</td>\n",
       "    </tr>\n",
       "  </tbody>\n",
       "</table>\n",
       "</div>"
      ],
      "text/plain": [
       "   inv_y_test  inv_y_hat_test\n",
       "0   12.363636        7.677033\n",
       "1   12.977273       13.244042\n",
       "2   12.659091       11.121104\n",
       "3   74.550000       10.368696\n",
       "4   33.440909        6.786418"
      ]
     },
     "execution_count": 97,
     "metadata": {},
     "output_type": "execute_result"
    }
   ],
   "source": [
    "results_test = pd.DataFrame({'inv_y_test': inv_y_test.reshape([40]), 'inv_y_hat_test': inv_y_hat_test.reshape([40])})\n",
    "results_test.head()"
   ]
  },
  {
   "cell_type": "markdown",
   "metadata": {},
   "source": [
    "### Decision Tree"
   ]
  },
  {
   "cell_type": "code",
   "execution_count": 98,
   "metadata": {},
   "outputs": [],
   "source": [
    "X_train_vals = np.vstack(X_train['seq_mean_emb'])\n",
    "y_train_vals = y_train.to_numpy()\n",
    "\n",
    "X_test_vals = np.vstack(X_test['seq_mean_emb'])\n",
    "y_test_vals = y_test.to_numpy()"
   ]
  },
  {
   "cell_type": "code",
   "execution_count": 99,
   "metadata": {},
   "outputs": [],
   "source": [
    "tree_mod = DecisionTreeRegressor(random_state=42)"
   ]
  },
  {
   "cell_type": "code",
   "execution_count": 100,
   "metadata": {},
   "outputs": [
    {
     "data": {
      "text/html": [
       "<style>#sk-container-id-4 {color: black;}#sk-container-id-4 pre{padding: 0;}#sk-container-id-4 div.sk-toggleable {background-color: white;}#sk-container-id-4 label.sk-toggleable__label {cursor: pointer;display: block;width: 100%;margin-bottom: 0;padding: 0.3em;box-sizing: border-box;text-align: center;}#sk-container-id-4 label.sk-toggleable__label-arrow:before {content: \"▸\";float: left;margin-right: 0.25em;color: #696969;}#sk-container-id-4 label.sk-toggleable__label-arrow:hover:before {color: black;}#sk-container-id-4 div.sk-estimator:hover label.sk-toggleable__label-arrow:before {color: black;}#sk-container-id-4 div.sk-toggleable__content {max-height: 0;max-width: 0;overflow: hidden;text-align: left;background-color: #f0f8ff;}#sk-container-id-4 div.sk-toggleable__content pre {margin: 0.2em;color: black;border-radius: 0.25em;background-color: #f0f8ff;}#sk-container-id-4 input.sk-toggleable__control:checked~div.sk-toggleable__content {max-height: 200px;max-width: 100%;overflow: auto;}#sk-container-id-4 input.sk-toggleable__control:checked~label.sk-toggleable__label-arrow:before {content: \"▾\";}#sk-container-id-4 div.sk-estimator input.sk-toggleable__control:checked~label.sk-toggleable__label {background-color: #d4ebff;}#sk-container-id-4 div.sk-label input.sk-toggleable__control:checked~label.sk-toggleable__label {background-color: #d4ebff;}#sk-container-id-4 input.sk-hidden--visually {border: 0;clip: rect(1px 1px 1px 1px);clip: rect(1px, 1px, 1px, 1px);height: 1px;margin: -1px;overflow: hidden;padding: 0;position: absolute;width: 1px;}#sk-container-id-4 div.sk-estimator {font-family: monospace;background-color: #f0f8ff;border: 1px dotted black;border-radius: 0.25em;box-sizing: border-box;margin-bottom: 0.5em;}#sk-container-id-4 div.sk-estimator:hover {background-color: #d4ebff;}#sk-container-id-4 div.sk-parallel-item::after {content: \"\";width: 100%;border-bottom: 1px solid gray;flex-grow: 1;}#sk-container-id-4 div.sk-label:hover label.sk-toggleable__label {background-color: #d4ebff;}#sk-container-id-4 div.sk-serial::before {content: \"\";position: absolute;border-left: 1px solid gray;box-sizing: border-box;top: 0;bottom: 0;left: 50%;z-index: 0;}#sk-container-id-4 div.sk-serial {display: flex;flex-direction: column;align-items: center;background-color: white;padding-right: 0.2em;padding-left: 0.2em;position: relative;}#sk-container-id-4 div.sk-item {position: relative;z-index: 1;}#sk-container-id-4 div.sk-parallel {display: flex;align-items: stretch;justify-content: center;background-color: white;position: relative;}#sk-container-id-4 div.sk-item::before, #sk-container-id-4 div.sk-parallel-item::before {content: \"\";position: absolute;border-left: 1px solid gray;box-sizing: border-box;top: 0;bottom: 0;left: 50%;z-index: -1;}#sk-container-id-4 div.sk-parallel-item {display: flex;flex-direction: column;z-index: 1;position: relative;background-color: white;}#sk-container-id-4 div.sk-parallel-item:first-child::after {align-self: flex-end;width: 50%;}#sk-container-id-4 div.sk-parallel-item:last-child::after {align-self: flex-start;width: 50%;}#sk-container-id-4 div.sk-parallel-item:only-child::after {width: 0;}#sk-container-id-4 div.sk-dashed-wrapped {border: 1px dashed gray;margin: 0 0.4em 0.5em 0.4em;box-sizing: border-box;padding-bottom: 0.4em;background-color: white;}#sk-container-id-4 div.sk-label label {font-family: monospace;font-weight: bold;display: inline-block;line-height: 1.2em;}#sk-container-id-4 div.sk-label-container {text-align: center;}#sk-container-id-4 div.sk-container {/* jupyter's `normalize.less` sets `[hidden] { display: none; }` but bootstrap.min.css set `[hidden] { display: none !important; }` so we also need the `!important` here to be able to override the default hidden behavior on the sphinx rendered scikit-learn.org. See: https://github.com/scikit-learn/scikit-learn/issues/21755 */display: inline-block !important;position: relative;}#sk-container-id-4 div.sk-text-repr-fallback {display: none;}</style><div id=\"sk-container-id-4\" class=\"sk-top-container\"><div class=\"sk-text-repr-fallback\"><pre>DecisionTreeRegressor(random_state=42)</pre><b>In a Jupyter environment, please rerun this cell to show the HTML representation or trust the notebook. <br />On GitHub, the HTML representation is unable to render, please try loading this page with nbviewer.org.</b></div><div class=\"sk-container\" hidden><div class=\"sk-item\"><div class=\"sk-estimator sk-toggleable\"><input class=\"sk-toggleable__control sk-hidden--visually\" id=\"sk-estimator-id-4\" type=\"checkbox\" checked><label for=\"sk-estimator-id-4\" class=\"sk-toggleable__label sk-toggleable__label-arrow\">DecisionTreeRegressor</label><div class=\"sk-toggleable__content\"><pre>DecisionTreeRegressor(random_state=42)</pre></div></div></div></div></div>"
      ],
      "text/plain": [
       "DecisionTreeRegressor(random_state=42)"
      ]
     },
     "execution_count": 100,
     "metadata": {},
     "output_type": "execute_result"
    }
   ],
   "source": [
    "tree_mod.fit(X_train_vals, y_train_vals)"
   ]
  },
  {
   "cell_type": "code",
   "execution_count": 101,
   "metadata": {},
   "outputs": [
    {
     "data": {
      "text/plain": [
       "array([-1.22383696, -0.25590517, -0.72680583, -1.25033554, -0.71228602])"
      ]
     },
     "execution_count": 101,
     "metadata": {},
     "output_type": "execute_result"
    }
   ],
   "source": [
    "tree_scores = cross_val_score(tree_mod, X_train_vals, y_train_vals, cv=5)\n",
    "tree_scores"
   ]
  },
  {
   "cell_type": "code",
   "execution_count": 102,
   "metadata": {},
   "outputs": [
    {
     "data": {
      "text/plain": [
       "-1.446914515453075"
      ]
     },
     "execution_count": 102,
     "metadata": {},
     "output_type": "execute_result"
    }
   ],
   "source": [
    "tree_scores = cross_val_score(tree_mod, X_train_vals, y_train_vals**2, cv=5)\n",
    "tree_scores\n",
    "np.mean(tree_scores)"
   ]
  },
  {
   "cell_type": "code",
   "execution_count": 103,
   "metadata": {},
   "outputs": [
    {
     "name": "stdout",
     "output_type": "stream",
     "text": [
      "mean cross validation score: -1.446914515453075\n",
      "r2score without cv: 0.9515156654680812\n"
     ]
    }
   ],
   "source": [
    "print(f\"mean cross validation score: {np.mean(tree_scores)}\")\n",
    "print(f\"r2score without cv: {tree_mod.score(X_train_vals, y_train_vals)}\")"
   ]
  },
  {
   "cell_type": "code",
   "execution_count": 104,
   "metadata": {},
   "outputs": [],
   "source": [
    "y_hat_train_wo_tuning = tree_mod.predict(X_train_vals)\n",
    "y_hat_test_wo_tuning = tree_mod.predict(X_test_vals)\n"
   ]
  },
  {
   "cell_type": "code",
   "execution_count": 105,
   "metadata": {},
   "outputs": [
    {
     "name": "stdout",
     "output_type": "stream",
     "text": [
      "-0.3905426444310709\n"
     ]
    }
   ],
   "source": [
    "print(r2_score(y_test, y_hat_test_wo_tuning))"
   ]
  },
  {
   "cell_type": "code",
   "execution_count": 129,
   "metadata": {},
   "outputs": [],
   "source": [
    "g_cv = GridSearchCV(\n",
    "    tree_mod,\n",
    "    param_grid={\n",
    "        'max_depth': [5, 8, 10],\n",
    "        'min_samples_split': [2, 5, 7],\n",
    "        \"min_samples_leaf\":[3,5,7,9],\n",
    "    },\n",
    "    cv=5,\n",
    "    scoring='r2'\n",
    "  )"
   ]
  },
  {
   "cell_type": "code",
   "execution_count": 130,
   "metadata": {},
   "outputs": [
    {
     "data": {
      "text/html": [
       "<style>#sk-container-id-7 {color: black;}#sk-container-id-7 pre{padding: 0;}#sk-container-id-7 div.sk-toggleable {background-color: white;}#sk-container-id-7 label.sk-toggleable__label {cursor: pointer;display: block;width: 100%;margin-bottom: 0;padding: 0.3em;box-sizing: border-box;text-align: center;}#sk-container-id-7 label.sk-toggleable__label-arrow:before {content: \"▸\";float: left;margin-right: 0.25em;color: #696969;}#sk-container-id-7 label.sk-toggleable__label-arrow:hover:before {color: black;}#sk-container-id-7 div.sk-estimator:hover label.sk-toggleable__label-arrow:before {color: black;}#sk-container-id-7 div.sk-toggleable__content {max-height: 0;max-width: 0;overflow: hidden;text-align: left;background-color: #f0f8ff;}#sk-container-id-7 div.sk-toggleable__content pre {margin: 0.2em;color: black;border-radius: 0.25em;background-color: #f0f8ff;}#sk-container-id-7 input.sk-toggleable__control:checked~div.sk-toggleable__content {max-height: 200px;max-width: 100%;overflow: auto;}#sk-container-id-7 input.sk-toggleable__control:checked~label.sk-toggleable__label-arrow:before {content: \"▾\";}#sk-container-id-7 div.sk-estimator input.sk-toggleable__control:checked~label.sk-toggleable__label {background-color: #d4ebff;}#sk-container-id-7 div.sk-label input.sk-toggleable__control:checked~label.sk-toggleable__label {background-color: #d4ebff;}#sk-container-id-7 input.sk-hidden--visually {border: 0;clip: rect(1px 1px 1px 1px);clip: rect(1px, 1px, 1px, 1px);height: 1px;margin: -1px;overflow: hidden;padding: 0;position: absolute;width: 1px;}#sk-container-id-7 div.sk-estimator {font-family: monospace;background-color: #f0f8ff;border: 1px dotted black;border-radius: 0.25em;box-sizing: border-box;margin-bottom: 0.5em;}#sk-container-id-7 div.sk-estimator:hover {background-color: #d4ebff;}#sk-container-id-7 div.sk-parallel-item::after {content: \"\";width: 100%;border-bottom: 1px solid gray;flex-grow: 1;}#sk-container-id-7 div.sk-label:hover label.sk-toggleable__label {background-color: #d4ebff;}#sk-container-id-7 div.sk-serial::before {content: \"\";position: absolute;border-left: 1px solid gray;box-sizing: border-box;top: 0;bottom: 0;left: 50%;z-index: 0;}#sk-container-id-7 div.sk-serial {display: flex;flex-direction: column;align-items: center;background-color: white;padding-right: 0.2em;padding-left: 0.2em;position: relative;}#sk-container-id-7 div.sk-item {position: relative;z-index: 1;}#sk-container-id-7 div.sk-parallel {display: flex;align-items: stretch;justify-content: center;background-color: white;position: relative;}#sk-container-id-7 div.sk-item::before, #sk-container-id-7 div.sk-parallel-item::before {content: \"\";position: absolute;border-left: 1px solid gray;box-sizing: border-box;top: 0;bottom: 0;left: 50%;z-index: -1;}#sk-container-id-7 div.sk-parallel-item {display: flex;flex-direction: column;z-index: 1;position: relative;background-color: white;}#sk-container-id-7 div.sk-parallel-item:first-child::after {align-self: flex-end;width: 50%;}#sk-container-id-7 div.sk-parallel-item:last-child::after {align-self: flex-start;width: 50%;}#sk-container-id-7 div.sk-parallel-item:only-child::after {width: 0;}#sk-container-id-7 div.sk-dashed-wrapped {border: 1px dashed gray;margin: 0 0.4em 0.5em 0.4em;box-sizing: border-box;padding-bottom: 0.4em;background-color: white;}#sk-container-id-7 div.sk-label label {font-family: monospace;font-weight: bold;display: inline-block;line-height: 1.2em;}#sk-container-id-7 div.sk-label-container {text-align: center;}#sk-container-id-7 div.sk-container {/* jupyter's `normalize.less` sets `[hidden] { display: none; }` but bootstrap.min.css set `[hidden] { display: none !important; }` so we also need the `!important` here to be able to override the default hidden behavior on the sphinx rendered scikit-learn.org. See: https://github.com/scikit-learn/scikit-learn/issues/21755 */display: inline-block !important;position: relative;}#sk-container-id-7 div.sk-text-repr-fallback {display: none;}</style><div id=\"sk-container-id-7\" class=\"sk-top-container\"><div class=\"sk-text-repr-fallback\"><pre>GridSearchCV(cv=5, estimator=DecisionTreeRegressor(random_state=42),\n",
       "             param_grid={&#x27;max_depth&#x27;: [5, 8, 10],\n",
       "                         &#x27;min_samples_leaf&#x27;: [3, 5, 7, 9],\n",
       "                         &#x27;min_samples_split&#x27;: [2, 5, 7]},\n",
       "             scoring=&#x27;r2&#x27;)</pre><b>In a Jupyter environment, please rerun this cell to show the HTML representation or trust the notebook. <br />On GitHub, the HTML representation is unable to render, please try loading this page with nbviewer.org.</b></div><div class=\"sk-container\" hidden><div class=\"sk-item sk-dashed-wrapped\"><div class=\"sk-label-container\"><div class=\"sk-label sk-toggleable\"><input class=\"sk-toggleable__control sk-hidden--visually\" id=\"sk-estimator-id-9\" type=\"checkbox\" ><label for=\"sk-estimator-id-9\" class=\"sk-toggleable__label sk-toggleable__label-arrow\">GridSearchCV</label><div class=\"sk-toggleable__content\"><pre>GridSearchCV(cv=5, estimator=DecisionTreeRegressor(random_state=42),\n",
       "             param_grid={&#x27;max_depth&#x27;: [5, 8, 10],\n",
       "                         &#x27;min_samples_leaf&#x27;: [3, 5, 7, 9],\n",
       "                         &#x27;min_samples_split&#x27;: [2, 5, 7]},\n",
       "             scoring=&#x27;r2&#x27;)</pre></div></div></div><div class=\"sk-parallel\"><div class=\"sk-parallel-item\"><div class=\"sk-item\"><div class=\"sk-label-container\"><div class=\"sk-label sk-toggleable\"><input class=\"sk-toggleable__control sk-hidden--visually\" id=\"sk-estimator-id-10\" type=\"checkbox\" ><label for=\"sk-estimator-id-10\" class=\"sk-toggleable__label sk-toggleable__label-arrow\">estimator: DecisionTreeRegressor</label><div class=\"sk-toggleable__content\"><pre>DecisionTreeRegressor(random_state=42)</pre></div></div></div><div class=\"sk-serial\"><div class=\"sk-item\"><div class=\"sk-estimator sk-toggleable\"><input class=\"sk-toggleable__control sk-hidden--visually\" id=\"sk-estimator-id-11\" type=\"checkbox\" ><label for=\"sk-estimator-id-11\" class=\"sk-toggleable__label sk-toggleable__label-arrow\">DecisionTreeRegressor</label><div class=\"sk-toggleable__content\"><pre>DecisionTreeRegressor(random_state=42)</pre></div></div></div></div></div></div></div></div></div></div>"
      ],
      "text/plain": [
       "GridSearchCV(cv=5, estimator=DecisionTreeRegressor(random_state=42),\n",
       "             param_grid={'max_depth': [5, 8, 10],\n",
       "                         'min_samples_leaf': [3, 5, 7, 9],\n",
       "                         'min_samples_split': [2, 5, 7]},\n",
       "             scoring='r2')"
      ]
     },
     "execution_count": 130,
     "metadata": {},
     "output_type": "execute_result"
    }
   ],
   "source": [
    "g_cv.fit(X_train_vals, y_train_vals)"
   ]
  },
  {
   "cell_type": "code",
   "execution_count": 131,
   "metadata": {},
   "outputs": [
    {
     "data": {
      "text/plain": [
       "{'max_depth': 5, 'min_samples_leaf': 9, 'min_samples_split': 2}"
      ]
     },
     "execution_count": 131,
     "metadata": {},
     "output_type": "execute_result"
    }
   ],
   "source": [
    "g_cv.best_params_"
   ]
  },
  {
   "cell_type": "code",
   "execution_count": 132,
   "metadata": {},
   "outputs": [
    {
     "data": {
      "text/plain": [
       "-0.5510597278761158"
      ]
     },
     "execution_count": 132,
     "metadata": {},
     "output_type": "execute_result"
    }
   ],
   "source": [
    "g_cv.best_score_"
   ]
  },
  {
   "cell_type": "code",
   "execution_count": 133,
   "metadata": {},
   "outputs": [
    {
     "data": {
      "text/html": [
       "<style>#sk-container-id-8 {color: black;}#sk-container-id-8 pre{padding: 0;}#sk-container-id-8 div.sk-toggleable {background-color: white;}#sk-container-id-8 label.sk-toggleable__label {cursor: pointer;display: block;width: 100%;margin-bottom: 0;padding: 0.3em;box-sizing: border-box;text-align: center;}#sk-container-id-8 label.sk-toggleable__label-arrow:before {content: \"▸\";float: left;margin-right: 0.25em;color: #696969;}#sk-container-id-8 label.sk-toggleable__label-arrow:hover:before {color: black;}#sk-container-id-8 div.sk-estimator:hover label.sk-toggleable__label-arrow:before {color: black;}#sk-container-id-8 div.sk-toggleable__content {max-height: 0;max-width: 0;overflow: hidden;text-align: left;background-color: #f0f8ff;}#sk-container-id-8 div.sk-toggleable__content pre {margin: 0.2em;color: black;border-radius: 0.25em;background-color: #f0f8ff;}#sk-container-id-8 input.sk-toggleable__control:checked~div.sk-toggleable__content {max-height: 200px;max-width: 100%;overflow: auto;}#sk-container-id-8 input.sk-toggleable__control:checked~label.sk-toggleable__label-arrow:before {content: \"▾\";}#sk-container-id-8 div.sk-estimator input.sk-toggleable__control:checked~label.sk-toggleable__label {background-color: #d4ebff;}#sk-container-id-8 div.sk-label input.sk-toggleable__control:checked~label.sk-toggleable__label {background-color: #d4ebff;}#sk-container-id-8 input.sk-hidden--visually {border: 0;clip: rect(1px 1px 1px 1px);clip: rect(1px, 1px, 1px, 1px);height: 1px;margin: -1px;overflow: hidden;padding: 0;position: absolute;width: 1px;}#sk-container-id-8 div.sk-estimator {font-family: monospace;background-color: #f0f8ff;border: 1px dotted black;border-radius: 0.25em;box-sizing: border-box;margin-bottom: 0.5em;}#sk-container-id-8 div.sk-estimator:hover {background-color: #d4ebff;}#sk-container-id-8 div.sk-parallel-item::after {content: \"\";width: 100%;border-bottom: 1px solid gray;flex-grow: 1;}#sk-container-id-8 div.sk-label:hover label.sk-toggleable__label {background-color: #d4ebff;}#sk-container-id-8 div.sk-serial::before {content: \"\";position: absolute;border-left: 1px solid gray;box-sizing: border-box;top: 0;bottom: 0;left: 50%;z-index: 0;}#sk-container-id-8 div.sk-serial {display: flex;flex-direction: column;align-items: center;background-color: white;padding-right: 0.2em;padding-left: 0.2em;position: relative;}#sk-container-id-8 div.sk-item {position: relative;z-index: 1;}#sk-container-id-8 div.sk-parallel {display: flex;align-items: stretch;justify-content: center;background-color: white;position: relative;}#sk-container-id-8 div.sk-item::before, #sk-container-id-8 div.sk-parallel-item::before {content: \"\";position: absolute;border-left: 1px solid gray;box-sizing: border-box;top: 0;bottom: 0;left: 50%;z-index: -1;}#sk-container-id-8 div.sk-parallel-item {display: flex;flex-direction: column;z-index: 1;position: relative;background-color: white;}#sk-container-id-8 div.sk-parallel-item:first-child::after {align-self: flex-end;width: 50%;}#sk-container-id-8 div.sk-parallel-item:last-child::after {align-self: flex-start;width: 50%;}#sk-container-id-8 div.sk-parallel-item:only-child::after {width: 0;}#sk-container-id-8 div.sk-dashed-wrapped {border: 1px dashed gray;margin: 0 0.4em 0.5em 0.4em;box-sizing: border-box;padding-bottom: 0.4em;background-color: white;}#sk-container-id-8 div.sk-label label {font-family: monospace;font-weight: bold;display: inline-block;line-height: 1.2em;}#sk-container-id-8 div.sk-label-container {text-align: center;}#sk-container-id-8 div.sk-container {/* jupyter's `normalize.less` sets `[hidden] { display: none; }` but bootstrap.min.css set `[hidden] { display: none !important; }` so we also need the `!important` here to be able to override the default hidden behavior on the sphinx rendered scikit-learn.org. See: https://github.com/scikit-learn/scikit-learn/issues/21755 */display: inline-block !important;position: relative;}#sk-container-id-8 div.sk-text-repr-fallback {display: none;}</style><div id=\"sk-container-id-8\" class=\"sk-top-container\"><div class=\"sk-text-repr-fallback\"><pre>DecisionTreeRegressor(max_depth=5, min_samples_leaf=9)</pre><b>In a Jupyter environment, please rerun this cell to show the HTML representation or trust the notebook. <br />On GitHub, the HTML representation is unable to render, please try loading this page with nbviewer.org.</b></div><div class=\"sk-container\" hidden><div class=\"sk-item\"><div class=\"sk-estimator sk-toggleable\"><input class=\"sk-toggleable__control sk-hidden--visually\" id=\"sk-estimator-id-12\" type=\"checkbox\" checked><label for=\"sk-estimator-id-12\" class=\"sk-toggleable__label sk-toggleable__label-arrow\">DecisionTreeRegressor</label><div class=\"sk-toggleable__content\"><pre>DecisionTreeRegressor(max_depth=5, min_samples_leaf=9)</pre></div></div></div></div></div>"
      ],
      "text/plain": [
       "DecisionTreeRegressor(max_depth=5, min_samples_leaf=9)"
      ]
     },
     "execution_count": 133,
     "metadata": {},
     "output_type": "execute_result"
    }
   ],
   "source": [
    "tuned_tree_mod = DecisionTreeRegressor(**g_cv.best_params_)\n",
    "tuned_tree_mod.fit(X_train_vals, y_train_vals)"
   ]
  },
  {
   "cell_type": "code",
   "execution_count": 134,
   "metadata": {},
   "outputs": [
    {
     "data": {
      "text/plain": [
       "0.6452798748819267"
      ]
     },
     "execution_count": 134,
     "metadata": {},
     "output_type": "execute_result"
    }
   ],
   "source": [
    "tuned_tree_mod.score(X_train_vals, y_train_vals)"
   ]
  },
  {
   "cell_type": "code",
   "execution_count": 135,
   "metadata": {},
   "outputs": [],
   "source": [
    "y_hat_train = tuned_tree_mod.predict(X_train_vals)\n",
    "y_hat_test = tuned_tree_mod.predict(X_test_vals)"
   ]
  },
  {
   "cell_type": "code",
   "execution_count": 136,
   "metadata": {},
   "outputs": [],
   "source": [
    "# #inverse yeo-johnshon transformation\n",
    "inv_y_train = pt_yj_wo_std.inverse_transform(y_train_vals.reshape(-1, 1))\n",
    "inv_y_test = pt_yj_wo_std.inverse_transform(y_test_vals.reshape(-1, 1))\n",
    "\n",
    "inv_y_hat_train = pt_yj_wo_std.inverse_transform(y_hat_train.reshape(-1, 1))\n",
    "inv_y_hat_test = pt_yj_wo_std.inverse_transform(y_hat_test.reshape(-1, 1))"
   ]
  },
  {
   "cell_type": "code",
   "execution_count": 137,
   "metadata": {},
   "outputs": [
    {
     "name": "stdout",
     "output_type": "stream",
     "text": [
      "** DecisionTree-train **\n",
      "Mean Absolute Error (MAE): 6.817666278562615\n",
      "Mean Squared Error (MSE): 100.38996984057746\n",
      "Root Mean Squared Error (RMSE): 10.019479519444983\n",
      "Mean Absolute Percentage Error (MAPE): 5.5136536035086285\n",
      "Explained Variance Score: 0.55199626239136\n",
      "Max Error: 31.646873625208777\n",
      "Mean Squared Log Error: 0.2549858028563432\n",
      "Median Absolute Error: 4.215115713559827\n",
      "R^2: 0.5397534400585238\n",
      "Mean Poisson Deviance: 4.411530924566808\n",
      "Mean Gamma Deviance: 0.40129675635521933\n",
      "** DecisionTree-test **\n",
      "Mean Absolute Error (MAE): 13.954525520473945\n",
      "Mean Squared Error (MSE): 372.1808174626137\n",
      "Root Mean Squared Error (RMSE): 19.29198842687331\n",
      "Mean Absolute Percentage Error (MAPE): 0.9727641853221536\n",
      "Explained Variance Score: -0.610147742496745\n",
      "Max Error: 68.82885566141456\n",
      "Mean Squared Log Error: 0.8888956489827734\n",
      "Median Absolute Error: 8.715909090909086\n",
      "R^2: -0.6453112992287686\n",
      "Mean Poisson Deviance: 19.848255391352218\n",
      "Mean Gamma Deviance: 1.5806517272170644\n"
     ]
    }
   ],
   "source": [
    "display_metrics(inv_y_train, inv_y_hat_train, 'DecisionTree-train')\n",
    "display_metrics(inv_y_test, inv_y_hat_test, 'DecisionTree-test')"
   ]
  },
  {
   "cell_type": "code",
   "execution_count": 138,
   "metadata": {},
   "outputs": [
    {
     "name": "stdout",
     "output_type": "stream",
     "text": [
      "-1.0173467844512567\n"
     ]
    }
   ],
   "source": [
    "print(r2_score(y_test, y_hat_test))"
   ]
  },
  {
   "cell_type": "code",
   "execution_count": 139,
   "metadata": {},
   "outputs": [
    {
     "data": {
      "image/png": "[encoded data removed]",
      "text/plain": [
       "<Figure size 720x720 with 1 Axes>"
      ]
     },
     "metadata": {
      "needs_background": "light"
     },
     "output_type": "display_data"
    },
    {
     "data": {
      "image/png": "[encoded data removed]",
      "text/plain": [
       "<Figure size 720x720 with 1 Axes>"
      ]
     },
     "metadata": {
      "needs_background": "light"
     },
     "output_type": "display_data"
    }
   ],
   "source": [
    "plot_true_v_pred(inv_y_train, inv_y_hat_train, 'DecisionTree-Train')\n",
    "plot_true_v_pred(inv_y_test, inv_y_hat_test, 'DecisionTree-Test')\n"
   ]
  },
  {
   "cell_type": "code",
   "execution_count": 140,
   "metadata": {},
   "outputs": [
    {
     "data": {
      "image/png": "[encoded data removed]",
      "text/plain": [
       "<Figure size 432x288 with 1 Axes>"
      ]
     },
     "metadata": {
      "needs_background": "light"
     },
     "output_type": "display_data"
    }
   ],
   "source": [
    "plt.hist(inv_y_hat_test, bins=50, label='Tree mod predicted efficiency')\n",
    "plt.legend()\n",
    "plt.show()"
   ]
  },
  {
   "cell_type": "code",
   "execution_count": null,
   "metadata": {},
   "outputs": [],
   "source": []
  },
  {
   "cell_type": "code",
   "execution_count": 141,
   "metadata": {},
   "outputs": [
    {
     "name": "stdout",
     "output_type": "stream",
     "text": [
      "MAE: 0.8981155313380785\n",
      "MSE: 1.6201652430652551\n",
      "RMSE: 1.272857118087201\n"
     ]
    }
   ],
   "source": [
    "# not tuned\n",
    "print('MAE:', mean_absolute_error(y_test,y_hat_test_wo_tuning))\n",
    "print('MSE:', mean_squared_error(y_test, y_hat_test_wo_tuning))\n",
    "print('RMSE:', np.sqrt(mean_squared_error(y_test, y_hat_test_wo_tuning)))"
   ]
  },
  {
   "cell_type": "code",
   "execution_count": 142,
   "metadata": {},
   "outputs": [
    {
     "name": "stdout",
     "output_type": "stream",
     "text": [
      "MAE: 1.2521948941296226\n",
      "MSE: 2.350474583765559\n",
      "RMSE: 1.5331257560179332\n"
     ]
    }
   ],
   "source": [
    "# tuned\n",
    "print('MAE:', mean_absolute_error(y_test,y_hat_test))\n",
    "print('MSE:', mean_squared_error(y_test, y_hat_test))\n",
    "print('RMSE:', np.sqrt(mean_squared_error(y_test, y_hat_test)))"
   ]
  },
  {
   "cell_type": "code",
   "execution_count": 143,
   "metadata": {},
   "outputs": [],
   "source": [
    "from scipy.special import inv_boxcox\n",
    "eff = inv_boxcox(y_test, 0.32)\n",
    "pred_eff = inv_boxcox(y_hat_test, 0.32)"
   ]
  },
  {
   "cell_type": "code",
   "execution_count": 144,
   "metadata": {},
   "outputs": [
    {
     "data": {
      "image/png": "[encoded data removed]",
      "text/plain": [
       "<Figure size 720x720 with 1 Axes>"
      ]
     },
     "metadata": {
      "needs_background": "light"
     },
     "output_type": "display_data"
    }
   ],
   "source": [
    "plt.figure(figsize=(10,10))\n",
    "plt.scatter(eff, pred_eff, c='crimson')\n",
    "\n",
    "p1 = max(max(pred_eff), max(eff))\n",
    "p2 = min(min(pred_eff), min(eff))\n",
    "plt.plot([p1, p2], [p1, p2], 'b-')\n",
    "plt.xlabel('True efficiency', fontsize=15)\n",
    "plt.ylabel('Predicted efficiency', fontsize=15)\n",
    "plt.axis('equal')\n",
    "plt.title(\"Test\", fontsize=20)\n",
    "plt.show()"
   ]
  },
  {
   "cell_type": "markdown",
   "metadata": {},
   "source": []
  },
  {
   "cell_type": "markdown",
   "metadata": {},
   "source": []
  },
  {
   "cell_type": "markdown",
   "metadata": {},
   "source": []
  }
 ],
 "metadata": {
  "kernelspec": {
   "display_name": "proteins",
   "language": "python",
   "name": "python3"
  },
  "language_info": {
   "codemirror_mode": {
    "name": "ipython",
    "version": 3
   },
   "file_extension": ".py",
   "mimetype": "text/x-python",
   "name": "python",
   "nbconvert_exporter": "python",
   "pygments_lexer": "ipython3",
   "version": "3.8.18"
  }
 },
 "nbformat": 4,
 "nbformat_minor": 2
}
